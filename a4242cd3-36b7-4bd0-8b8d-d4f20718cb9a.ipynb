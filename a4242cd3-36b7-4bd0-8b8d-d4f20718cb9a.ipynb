{
 "cells": [
  {
   "cell_type": "markdown",
   "metadata": {},
   "source": [
    "¡Hola!\n",
    "\n",
    "Mi nombre es Tonatiuh Cruz. Me complace revisar tu proyecto hoy.\n",
    "\n",
    "Al identificar cualquier error inicialmente, simplemente los destacaré. Te animo a localizar y abordar los problemas de forma independiente como parte de tu preparación para un rol como data-scientist. En un entorno profesional, tu líder de equipo seguiría un enfoque similar. Si encuentras la tarea desafiante, proporcionaré una pista más específica en la próxima iteración.\n",
    "\n",
    "Encontrarás mis comentarios a continuación - **por favor no los muevas, modifiques o elimines**.\n",
    "\n",
    "Puedes encontrar mis comentarios en cajas verdes, amarillas o rojas como esta:\n",
    "\n",
    "<div class=\"alert alert-block alert-success\">\n",
    "<b>Comentario del revisor</b> <a class=\"tocSkip\"></a>\n",
    "\n",
    "Éxito. Todo está hecho correctamente.\n",
    "</div>\n",
    "\n",
    "<div class=\"alert alert-block alert-warning\">\n",
    "<b>Comentario del revisor</b> <a class=\"tocSkip\"></a>\n",
    "\n",
    "Observaciones. Algunas recomendaciones.\n",
    "</div>\n",
    "\n",
    "<div class=\"alert alert-block alert-danger\">\n",
    "<b>Comentario del revisor</b> <a class=\"tocSkip\"></a>\n",
    "\n",
    "Necesita corrección. El bloque requiere algunas correcciones. El trabajo no puede ser aceptado con comentarios en rojo.\n",
    "</div>\n",
    "\n",
    "Puedes responderme utilizando esto:\n",
    "\n",
    "<div class=\"alert alert-block alert-info\">\n",
    "<b>Respuesta del estudiante.</b> <a class=\"tocSkip\"></a>\n",
    "</div>"
   ]
  },
  {
   "cell_type": "markdown",
   "metadata": {},
   "source": [
    "<div class=\"alert alert-block alert-warning\">\n",
    "<b>Comentario del revisor</b> <a class=\"tocSkip\"></a>\n",
    "\n",
    "¡Hola! Recuerda que para los ejercicio de análisis de datos es necesario desarrollar la introducción, objetivo y etapas de análisis. Esto es crucial para cualquier proyecto, ya que establece una guía clara sobre los pasos a seguir. Tener estos elementos bien definidos desde el principio nos permite trabajar de manera más organizada y eficiente. En un futuro lo podrías complementar con una tabla de contenido.\n",
    "</div>"
   ]
  },
  {
   "cell_type": "markdown",
   "metadata": {
    "tags": [
     "e5c1f0c2-db9f-43a0-99b9-4875c52427e8"
    ]
   },
   "source": [
    "# Campaña 2017\n",
    "El objetivo de este proyecto, es determinar cuál es el mejor plan publicitario para la campaña del año 2017 con respecto a las ventas obtenidas en 2016."
   ]
  },
  {
   "cell_type": "markdown",
   "metadata": {},
   "source": [
    "## Inicialización"
   ]
  },
  {
   "cell_type": "code",
   "execution_count": 1,
   "metadata": {},
   "outputs": [],
   "source": [
    "# importamos las librerías necesarias\n",
    "import pandas as pd\n",
    "import numpy as np\n",
    "import math as mt\n",
    "import seaborn as sns\n",
    "from matplotlib import pyplot as plt\n",
    "from scipy import stats as st"
   ]
  },
  {
   "cell_type": "code",
   "execution_count": 2,
   "metadata": {},
   "outputs": [],
   "source": [
    "# cargamos los datos del dataset\n",
    "df_games = pd.read_csv('/datasets/games.csv')"
   ]
  },
  {
   "cell_type": "markdown",
   "metadata": {},
   "source": [
    "\n",
    "<div class=\"alert alert-block alert-success\">\n",
    "<b>Comentario del revisor:</b> <a class=\"tocSkip\"></a>\n",
    "    \n",
    "Has realizado un excelente trabajo al importar los datos y las bibliotecas necesarias.\n",
    "\n",
    "</div>"
   ]
  },
  {
   "cell_type": "code",
   "execution_count": 3,
   "metadata": {},
   "outputs": [
    {
     "data": {
      "text/html": [
       "<div>\n",
       "<style scoped>\n",
       "    .dataframe tbody tr th:only-of-type {\n",
       "        vertical-align: middle;\n",
       "    }\n",
       "\n",
       "    .dataframe tbody tr th {\n",
       "        vertical-align: top;\n",
       "    }\n",
       "\n",
       "    .dataframe thead th {\n",
       "        text-align: right;\n",
       "    }\n",
       "</style>\n",
       "<table border=\"1\" class=\"dataframe\">\n",
       "  <thead>\n",
       "    <tr style=\"text-align: right;\">\n",
       "      <th></th>\n",
       "      <th>Name</th>\n",
       "      <th>Platform</th>\n",
       "      <th>Year_of_Release</th>\n",
       "      <th>Genre</th>\n",
       "      <th>NA_sales</th>\n",
       "      <th>EU_sales</th>\n",
       "      <th>JP_sales</th>\n",
       "      <th>Other_sales</th>\n",
       "      <th>Critic_Score</th>\n",
       "      <th>User_Score</th>\n",
       "      <th>Rating</th>\n",
       "    </tr>\n",
       "  </thead>\n",
       "  <tbody>\n",
       "    <tr>\n",
       "      <th>0</th>\n",
       "      <td>Wii Sports</td>\n",
       "      <td>Wii</td>\n",
       "      <td>2006.0</td>\n",
       "      <td>Sports</td>\n",
       "      <td>41.36</td>\n",
       "      <td>28.96</td>\n",
       "      <td>3.77</td>\n",
       "      <td>8.45</td>\n",
       "      <td>76.0</td>\n",
       "      <td>8</td>\n",
       "      <td>E</td>\n",
       "    </tr>\n",
       "    <tr>\n",
       "      <th>1</th>\n",
       "      <td>Super Mario Bros.</td>\n",
       "      <td>NES</td>\n",
       "      <td>1985.0</td>\n",
       "      <td>Platform</td>\n",
       "      <td>29.08</td>\n",
       "      <td>3.58</td>\n",
       "      <td>6.81</td>\n",
       "      <td>0.77</td>\n",
       "      <td>NaN</td>\n",
       "      <td>NaN</td>\n",
       "      <td>NaN</td>\n",
       "    </tr>\n",
       "    <tr>\n",
       "      <th>2</th>\n",
       "      <td>Mario Kart Wii</td>\n",
       "      <td>Wii</td>\n",
       "      <td>2008.0</td>\n",
       "      <td>Racing</td>\n",
       "      <td>15.68</td>\n",
       "      <td>12.76</td>\n",
       "      <td>3.79</td>\n",
       "      <td>3.29</td>\n",
       "      <td>82.0</td>\n",
       "      <td>8.3</td>\n",
       "      <td>E</td>\n",
       "    </tr>\n",
       "    <tr>\n",
       "      <th>3</th>\n",
       "      <td>Wii Sports Resort</td>\n",
       "      <td>Wii</td>\n",
       "      <td>2009.0</td>\n",
       "      <td>Sports</td>\n",
       "      <td>15.61</td>\n",
       "      <td>10.93</td>\n",
       "      <td>3.28</td>\n",
       "      <td>2.95</td>\n",
       "      <td>80.0</td>\n",
       "      <td>8</td>\n",
       "      <td>E</td>\n",
       "    </tr>\n",
       "    <tr>\n",
       "      <th>4</th>\n",
       "      <td>Pokemon Red/Pokemon Blue</td>\n",
       "      <td>GB</td>\n",
       "      <td>1996.0</td>\n",
       "      <td>Role-Playing</td>\n",
       "      <td>11.27</td>\n",
       "      <td>8.89</td>\n",
       "      <td>10.22</td>\n",
       "      <td>1.00</td>\n",
       "      <td>NaN</td>\n",
       "      <td>NaN</td>\n",
       "      <td>NaN</td>\n",
       "    </tr>\n",
       "  </tbody>\n",
       "</table>\n",
       "</div>"
      ],
      "text/plain": [
       "                       Name Platform  Year_of_Release         Genre  NA_sales  \\\n",
       "0                Wii Sports      Wii           2006.0        Sports     41.36   \n",
       "1         Super Mario Bros.      NES           1985.0      Platform     29.08   \n",
       "2            Mario Kart Wii      Wii           2008.0        Racing     15.68   \n",
       "3         Wii Sports Resort      Wii           2009.0        Sports     15.61   \n",
       "4  Pokemon Red/Pokemon Blue       GB           1996.0  Role-Playing     11.27   \n",
       "\n",
       "   EU_sales  JP_sales  Other_sales  Critic_Score User_Score Rating  \n",
       "0     28.96      3.77         8.45          76.0          8      E  \n",
       "1      3.58      6.81         0.77           NaN        NaN    NaN  \n",
       "2     12.76      3.79         3.29          82.0        8.3      E  \n",
       "3     10.93      3.28         2.95          80.0          8      E  \n",
       "4      8.89     10.22         1.00           NaN        NaN    NaN  "
      ]
     },
     "execution_count": 3,
     "metadata": {},
     "output_type": "execute_result"
    }
   ],
   "source": [
    "# mostramos el contenido del dataframe obtenido\n",
    "df_games.head()"
   ]
  },
  {
   "cell_type": "markdown",
   "metadata": {},
   "source": [
    "## Preparación de los datos"
   ]
  },
  {
   "cell_type": "markdown",
   "metadata": {},
   "source": [
    "Convertiremos los nombres de las columnas a minúsculas para tener un mejor manejo del dataframe."
   ]
  },
  {
   "cell_type": "code",
   "execution_count": 4,
   "metadata": {},
   "outputs": [
    {
     "data": {
      "text/html": [
       "<div>\n",
       "<style scoped>\n",
       "    .dataframe tbody tr th:only-of-type {\n",
       "        vertical-align: middle;\n",
       "    }\n",
       "\n",
       "    .dataframe tbody tr th {\n",
       "        vertical-align: top;\n",
       "    }\n",
       "\n",
       "    .dataframe thead th {\n",
       "        text-align: right;\n",
       "    }\n",
       "</style>\n",
       "<table border=\"1\" class=\"dataframe\">\n",
       "  <thead>\n",
       "    <tr style=\"text-align: right;\">\n",
       "      <th></th>\n",
       "      <th>name</th>\n",
       "      <th>platform</th>\n",
       "      <th>year_of_release</th>\n",
       "      <th>genre</th>\n",
       "      <th>na_sales</th>\n",
       "      <th>eu_sales</th>\n",
       "      <th>jp_sales</th>\n",
       "      <th>other_sales</th>\n",
       "      <th>critic_score</th>\n",
       "      <th>user_score</th>\n",
       "      <th>rating</th>\n",
       "    </tr>\n",
       "  </thead>\n",
       "  <tbody>\n",
       "    <tr>\n",
       "      <th>0</th>\n",
       "      <td>Wii Sports</td>\n",
       "      <td>Wii</td>\n",
       "      <td>2006.0</td>\n",
       "      <td>Sports</td>\n",
       "      <td>41.36</td>\n",
       "      <td>28.96</td>\n",
       "      <td>3.77</td>\n",
       "      <td>8.45</td>\n",
       "      <td>76.0</td>\n",
       "      <td>8</td>\n",
       "      <td>E</td>\n",
       "    </tr>\n",
       "    <tr>\n",
       "      <th>1</th>\n",
       "      <td>Super Mario Bros.</td>\n",
       "      <td>NES</td>\n",
       "      <td>1985.0</td>\n",
       "      <td>Platform</td>\n",
       "      <td>29.08</td>\n",
       "      <td>3.58</td>\n",
       "      <td>6.81</td>\n",
       "      <td>0.77</td>\n",
       "      <td>NaN</td>\n",
       "      <td>NaN</td>\n",
       "      <td>NaN</td>\n",
       "    </tr>\n",
       "    <tr>\n",
       "      <th>2</th>\n",
       "      <td>Mario Kart Wii</td>\n",
       "      <td>Wii</td>\n",
       "      <td>2008.0</td>\n",
       "      <td>Racing</td>\n",
       "      <td>15.68</td>\n",
       "      <td>12.76</td>\n",
       "      <td>3.79</td>\n",
       "      <td>3.29</td>\n",
       "      <td>82.0</td>\n",
       "      <td>8.3</td>\n",
       "      <td>E</td>\n",
       "    </tr>\n",
       "    <tr>\n",
       "      <th>3</th>\n",
       "      <td>Wii Sports Resort</td>\n",
       "      <td>Wii</td>\n",
       "      <td>2009.0</td>\n",
       "      <td>Sports</td>\n",
       "      <td>15.61</td>\n",
       "      <td>10.93</td>\n",
       "      <td>3.28</td>\n",
       "      <td>2.95</td>\n",
       "      <td>80.0</td>\n",
       "      <td>8</td>\n",
       "      <td>E</td>\n",
       "    </tr>\n",
       "    <tr>\n",
       "      <th>4</th>\n",
       "      <td>Pokemon Red/Pokemon Blue</td>\n",
       "      <td>GB</td>\n",
       "      <td>1996.0</td>\n",
       "      <td>Role-Playing</td>\n",
       "      <td>11.27</td>\n",
       "      <td>8.89</td>\n",
       "      <td>10.22</td>\n",
       "      <td>1.00</td>\n",
       "      <td>NaN</td>\n",
       "      <td>NaN</td>\n",
       "      <td>NaN</td>\n",
       "    </tr>\n",
       "  </tbody>\n",
       "</table>\n",
       "</div>"
      ],
      "text/plain": [
       "                       name platform  year_of_release         genre  na_sales  \\\n",
       "0                Wii Sports      Wii           2006.0        Sports     41.36   \n",
       "1         Super Mario Bros.      NES           1985.0      Platform     29.08   \n",
       "2            Mario Kart Wii      Wii           2008.0        Racing     15.68   \n",
       "3         Wii Sports Resort      Wii           2009.0        Sports     15.61   \n",
       "4  Pokemon Red/Pokemon Blue       GB           1996.0  Role-Playing     11.27   \n",
       "\n",
       "   eu_sales  jp_sales  other_sales  critic_score user_score rating  \n",
       "0     28.96      3.77         8.45          76.0          8      E  \n",
       "1      3.58      6.81         0.77           NaN        NaN    NaN  \n",
       "2     12.76      3.79         3.29          82.0        8.3      E  \n",
       "3     10.93      3.28         2.95          80.0          8      E  \n",
       "4      8.89     10.22         1.00           NaN        NaN    NaN  "
      ]
     },
     "execution_count": 4,
     "metadata": {},
     "output_type": "execute_result"
    }
   ],
   "source": [
    "df_games.columns=df_games.columns.str.lower()\n",
    "df_games.head()"
   ]
  },
  {
   "cell_type": "markdown",
   "metadata": {},
   "source": [
    "Vemos cúal es el tipo de datos para cada columna y si hay valores ausentes."
   ]
  },
  {
   "cell_type": "code",
   "execution_count": 5,
   "metadata": {},
   "outputs": [
    {
     "name": "stdout",
     "output_type": "stream",
     "text": [
      "<class 'pandas.core.frame.DataFrame'>\n",
      "RangeIndex: 16715 entries, 0 to 16714\n",
      "Data columns (total 11 columns):\n",
      " #   Column           Non-Null Count  Dtype  \n",
      "---  ------           --------------  -----  \n",
      " 0   name             16713 non-null  object \n",
      " 1   platform         16715 non-null  object \n",
      " 2   year_of_release  16446 non-null  float64\n",
      " 3   genre            16713 non-null  object \n",
      " 4   na_sales         16715 non-null  float64\n",
      " 5   eu_sales         16715 non-null  float64\n",
      " 6   jp_sales         16715 non-null  float64\n",
      " 7   other_sales      16715 non-null  float64\n",
      " 8   critic_score     8137 non-null   float64\n",
      " 9   user_score       10014 non-null  object \n",
      " 10  rating           9949 non-null   object \n",
      "dtypes: float64(6), object(5)\n",
      "memory usage: 1.4+ MB\n"
     ]
    }
   ],
   "source": [
    "df_games.info()"
   ]
  },
  {
   "cell_type": "markdown",
   "metadata": {},
   "source": [
    "### Valores Ausentes"
   ]
  },
  {
   "cell_type": "markdown",
   "metadata": {},
   "source": [
    "Vemos que hay valores ausentes en la columna name (16713/16715), year_of_release (16446/16715), genre(16713/16715), critic_score(8137/16715), user_score(10014/16715) y rating (9949/16715). Además vemos algunos tipos de datos incorrectos para las columnas year_of_release (que debería ser int) y user_score (que debería ser float).  \n",
    "Corrijamos primero los valores ausentes."
   ]
  },
  {
   "cell_type": "markdown",
   "metadata": {},
   "source": [
    "#### Nombre y genero"
   ]
  },
  {
   "cell_type": "code",
   "execution_count": 6,
   "metadata": {},
   "outputs": [
    {
     "data": {
      "text/html": [
       "<div>\n",
       "<style scoped>\n",
       "    .dataframe tbody tr th:only-of-type {\n",
       "        vertical-align: middle;\n",
       "    }\n",
       "\n",
       "    .dataframe tbody tr th {\n",
       "        vertical-align: top;\n",
       "    }\n",
       "\n",
       "    .dataframe thead th {\n",
       "        text-align: right;\n",
       "    }\n",
       "</style>\n",
       "<table border=\"1\" class=\"dataframe\">\n",
       "  <thead>\n",
       "    <tr style=\"text-align: right;\">\n",
       "      <th></th>\n",
       "      <th>name</th>\n",
       "      <th>platform</th>\n",
       "      <th>year_of_release</th>\n",
       "      <th>genre</th>\n",
       "      <th>na_sales</th>\n",
       "      <th>eu_sales</th>\n",
       "      <th>jp_sales</th>\n",
       "      <th>other_sales</th>\n",
       "      <th>critic_score</th>\n",
       "      <th>user_score</th>\n",
       "      <th>rating</th>\n",
       "    </tr>\n",
       "  </thead>\n",
       "  <tbody>\n",
       "    <tr>\n",
       "      <th>659</th>\n",
       "      <td>NaN</td>\n",
       "      <td>GEN</td>\n",
       "      <td>1993.0</td>\n",
       "      <td>NaN</td>\n",
       "      <td>1.78</td>\n",
       "      <td>0.53</td>\n",
       "      <td>0.00</td>\n",
       "      <td>0.08</td>\n",
       "      <td>NaN</td>\n",
       "      <td>NaN</td>\n",
       "      <td>NaN</td>\n",
       "    </tr>\n",
       "    <tr>\n",
       "      <th>14244</th>\n",
       "      <td>NaN</td>\n",
       "      <td>GEN</td>\n",
       "      <td>1993.0</td>\n",
       "      <td>NaN</td>\n",
       "      <td>0.00</td>\n",
       "      <td>0.00</td>\n",
       "      <td>0.03</td>\n",
       "      <td>0.00</td>\n",
       "      <td>NaN</td>\n",
       "      <td>NaN</td>\n",
       "      <td>NaN</td>\n",
       "    </tr>\n",
       "  </tbody>\n",
       "</table>\n",
       "</div>"
      ],
      "text/plain": [
       "      name platform  year_of_release genre  na_sales  eu_sales  jp_sales  \\\n",
       "659    NaN      GEN           1993.0   NaN      1.78      0.53      0.00   \n",
       "14244  NaN      GEN           1993.0   NaN      0.00      0.00      0.03   \n",
       "\n",
       "       other_sales  critic_score user_score rating  \n",
       "659           0.08           NaN        NaN    NaN  \n",
       "14244         0.00           NaN        NaN    NaN  "
      ]
     },
     "execution_count": 6,
     "metadata": {},
     "output_type": "execute_result"
    }
   ],
   "source": [
    "# vemos los valores ausentes para la columna 'name'\n",
    "df_games[df_games['name'].isna()]"
   ]
  },
  {
   "cell_type": "code",
   "execution_count": 7,
   "metadata": {},
   "outputs": [
    {
     "data": {
      "text/html": [
       "<div>\n",
       "<style scoped>\n",
       "    .dataframe tbody tr th:only-of-type {\n",
       "        vertical-align: middle;\n",
       "    }\n",
       "\n",
       "    .dataframe tbody tr th {\n",
       "        vertical-align: top;\n",
       "    }\n",
       "\n",
       "    .dataframe thead th {\n",
       "        text-align: right;\n",
       "    }\n",
       "</style>\n",
       "<table border=\"1\" class=\"dataframe\">\n",
       "  <thead>\n",
       "    <tr style=\"text-align: right;\">\n",
       "      <th></th>\n",
       "      <th>name</th>\n",
       "      <th>platform</th>\n",
       "      <th>year_of_release</th>\n",
       "      <th>genre</th>\n",
       "      <th>na_sales</th>\n",
       "      <th>eu_sales</th>\n",
       "      <th>jp_sales</th>\n",
       "      <th>other_sales</th>\n",
       "      <th>critic_score</th>\n",
       "      <th>user_score</th>\n",
       "      <th>rating</th>\n",
       "    </tr>\n",
       "  </thead>\n",
       "  <tbody>\n",
       "    <tr>\n",
       "      <th>659</th>\n",
       "      <td>NaN</td>\n",
       "      <td>GEN</td>\n",
       "      <td>1993.0</td>\n",
       "      <td>NaN</td>\n",
       "      <td>1.78</td>\n",
       "      <td>0.53</td>\n",
       "      <td>0.00</td>\n",
       "      <td>0.08</td>\n",
       "      <td>NaN</td>\n",
       "      <td>NaN</td>\n",
       "      <td>NaN</td>\n",
       "    </tr>\n",
       "    <tr>\n",
       "      <th>14244</th>\n",
       "      <td>NaN</td>\n",
       "      <td>GEN</td>\n",
       "      <td>1993.0</td>\n",
       "      <td>NaN</td>\n",
       "      <td>0.00</td>\n",
       "      <td>0.00</td>\n",
       "      <td>0.03</td>\n",
       "      <td>0.00</td>\n",
       "      <td>NaN</td>\n",
       "      <td>NaN</td>\n",
       "      <td>NaN</td>\n",
       "    </tr>\n",
       "  </tbody>\n",
       "</table>\n",
       "</div>"
      ],
      "text/plain": [
       "      name platform  year_of_release genre  na_sales  eu_sales  jp_sales  \\\n",
       "659    NaN      GEN           1993.0   NaN      1.78      0.53      0.00   \n",
       "14244  NaN      GEN           1993.0   NaN      0.00      0.00      0.03   \n",
       "\n",
       "       other_sales  critic_score user_score rating  \n",
       "659           0.08           NaN        NaN    NaN  \n",
       "14244         0.00           NaN        NaN    NaN  "
      ]
     },
     "execution_count": 7,
     "metadata": {},
     "output_type": "execute_result"
    }
   ],
   "source": [
    "# vemos los valores ausentes para la columna 'genre'\n",
    "df_games[df_games['genre'].isna()]"
   ]
  },
  {
   "cell_type": "markdown",
   "metadata": {},
   "source": [
    "<div class=\"alert alert-block alert-success\">\n",
    "    <b>Comentario del revisor:</b> <a class=\"tocSkip\"></a>\n",
    "    \n",
    "Gran trabajo con el los ajustes en las dos variables anteriores. \n",
    "</div>"
   ]
  },
  {
   "cell_type": "markdown",
   "metadata": {},
   "source": [
    "Para los valores ausentes de las columnas 'name' y 'genre', vemos que se trata de los dos mismos casos, los cuales no continenen más que algunos datos. Por esto, podemos eliminar estos registros, ya que no contienen, por lo menos, un nombre y su ausencia no hará ningún cambio significativo en las estadisticas."
   ]
  },
  {
   "cell_type": "code",
   "execution_count": 8,
   "metadata": {},
   "outputs": [],
   "source": [
    "# eliminamos los vales ausentes para las columnas 'name' y 'genre'\n",
    "df_games=df_games.dropna(subset=['name','genre'])"
   ]
  },
  {
   "cell_type": "markdown",
   "metadata": {},
   "source": [
    "#### Año de lanzamiento"
   ]
  },
  {
   "cell_type": "code",
   "execution_count": 9,
   "metadata": {
    "scrolled": false
   },
   "outputs": [
    {
     "data": {
      "text/html": [
       "<div>\n",
       "<style scoped>\n",
       "    .dataframe tbody tr th:only-of-type {\n",
       "        vertical-align: middle;\n",
       "    }\n",
       "\n",
       "    .dataframe tbody tr th {\n",
       "        vertical-align: top;\n",
       "    }\n",
       "\n",
       "    .dataframe thead th {\n",
       "        text-align: right;\n",
       "    }\n",
       "</style>\n",
       "<table border=\"1\" class=\"dataframe\">\n",
       "  <thead>\n",
       "    <tr style=\"text-align: right;\">\n",
       "      <th></th>\n",
       "      <th>name</th>\n",
       "      <th>platform</th>\n",
       "      <th>year_of_release</th>\n",
       "      <th>genre</th>\n",
       "      <th>na_sales</th>\n",
       "      <th>eu_sales</th>\n",
       "      <th>jp_sales</th>\n",
       "      <th>other_sales</th>\n",
       "      <th>critic_score</th>\n",
       "      <th>user_score</th>\n",
       "      <th>rating</th>\n",
       "    </tr>\n",
       "  </thead>\n",
       "  <tbody>\n",
       "    <tr>\n",
       "      <th>15119</th>\n",
       "      <td>Legacy of Ys: Books I &amp; II</td>\n",
       "      <td>DS</td>\n",
       "      <td>NaN</td>\n",
       "      <td>Role-Playing</td>\n",
       "      <td>0.02</td>\n",
       "      <td>0.00</td>\n",
       "      <td>0.00</td>\n",
       "      <td>0.00</td>\n",
       "      <td>NaN</td>\n",
       "      <td>NaN</td>\n",
       "      <td>NaN</td>\n",
       "    </tr>\n",
       "    <tr>\n",
       "      <th>11338</th>\n",
       "      <td>Charm Girls Club: My Fashion Show</td>\n",
       "      <td>DS</td>\n",
       "      <td>NaN</td>\n",
       "      <td>Simulation</td>\n",
       "      <td>0.08</td>\n",
       "      <td>0.00</td>\n",
       "      <td>0.00</td>\n",
       "      <td>0.01</td>\n",
       "      <td>NaN</td>\n",
       "      <td>tbd</td>\n",
       "      <td>E</td>\n",
       "    </tr>\n",
       "    <tr>\n",
       "      <th>4648</th>\n",
       "      <td>TERA</td>\n",
       "      <td>PC</td>\n",
       "      <td>NaN</td>\n",
       "      <td>Role-Playing</td>\n",
       "      <td>0.25</td>\n",
       "      <td>0.12</td>\n",
       "      <td>0.00</td>\n",
       "      <td>0.05</td>\n",
       "      <td>77.0</td>\n",
       "      <td>6.8</td>\n",
       "      <td>M</td>\n",
       "    </tr>\n",
       "    <tr>\n",
       "      <th>11377</th>\n",
       "      <td>Face Racers: Photo Finish</td>\n",
       "      <td>3DS</td>\n",
       "      <td>NaN</td>\n",
       "      <td>Racing</td>\n",
       "      <td>0.08</td>\n",
       "      <td>0.00</td>\n",
       "      <td>0.00</td>\n",
       "      <td>0.01</td>\n",
       "      <td>NaN</td>\n",
       "      <td>tbd</td>\n",
       "      <td>E</td>\n",
       "    </tr>\n",
       "    <tr>\n",
       "      <th>2522</th>\n",
       "      <td>The Lord of the Rings: War in the North</td>\n",
       "      <td>PS3</td>\n",
       "      <td>NaN</td>\n",
       "      <td>Action</td>\n",
       "      <td>0.25</td>\n",
       "      <td>0.42</td>\n",
       "      <td>0.01</td>\n",
       "      <td>0.13</td>\n",
       "      <td>63.0</td>\n",
       "      <td>7</td>\n",
       "      <td>M</td>\n",
       "    </tr>\n",
       "  </tbody>\n",
       "</table>\n",
       "</div>"
      ],
      "text/plain": [
       "                                          name platform  year_of_release  \\\n",
       "15119               Legacy of Ys: Books I & II       DS              NaN   \n",
       "11338        Charm Girls Club: My Fashion Show       DS              NaN   \n",
       "4648                                      TERA       PC              NaN   \n",
       "11377                Face Racers: Photo Finish      3DS              NaN   \n",
       "2522   The Lord of the Rings: War in the North      PS3              NaN   \n",
       "\n",
       "              genre  na_sales  eu_sales  jp_sales  other_sales  critic_score  \\\n",
       "15119  Role-Playing      0.02      0.00      0.00         0.00           NaN   \n",
       "11338    Simulation      0.08      0.00      0.00         0.01           NaN   \n",
       "4648   Role-Playing      0.25      0.12      0.00         0.05          77.0   \n",
       "11377        Racing      0.08      0.00      0.00         0.01           NaN   \n",
       "2522         Action      0.25      0.42      0.01         0.13          63.0   \n",
       "\n",
       "      user_score rating  \n",
       "15119        NaN    NaN  \n",
       "11338        tbd      E  \n",
       "4648         6.8      M  \n",
       "11377        tbd      E  \n",
       "2522           7      M  "
      ]
     },
     "execution_count": 9,
     "metadata": {},
     "output_type": "execute_result"
    }
   ],
   "source": [
    "df_games[df_games['year_of_release'].isna()].sample(5)"
   ]
  },
  {
   "cell_type": "markdown",
   "metadata": {},
   "source": [
    "La columna ‘year_of_release’ es importante para agrupar los datos por año de lanzamiento. Debido a esto, no podemos asignar un año válido a esta columna donde hay valores ausentes, pues esto afectaría las estadísticas de otros años. Además, no podemos eliminar estos registros, ya que aún contienen datos en otras columnas que podrían ser útiles. Por lo tanto, reemplazaremos los años ausentes con el valor 0."
   ]
  },
  {
   "cell_type": "code",
   "execution_count": 10,
   "metadata": {},
   "outputs": [],
   "source": [
    "df_games['year_of_release'].fillna(0, inplace=True) "
   ]
  },
  {
   "cell_type": "markdown",
   "metadata": {},
   "source": [
    "<div class=\"alert alert-block alert-info\">\n",
    "    <b>Comentario del revisor:</b> <a class=\"tocSkip\"></a>\n",
    "    \n",
    "En ocasiones podemos completar los valores faltantes con información recaba mediante una investigación. Es muy común que cuando trabajamos con datos en la vida real, mucho de estos vengan con valores nulos que en ocasiones tendremos que completar con proxys\n",
    "</div>"
   ]
  },
  {
   "cell_type": "markdown",
   "metadata": {},
   "source": [
    "####  Puntuación de la crítica, puntuación de lo usuarios y clasificación"
   ]
  },
  {
   "cell_type": "code",
   "execution_count": 11,
   "metadata": {},
   "outputs": [
    {
     "name": "stdout",
     "output_type": "stream",
     "text": [
      "valores ausentes en critic_score: 8576\n",
      "valores ausentes en user_score: 6699\n",
      "valores ausentes en rating: 6764\n"
     ]
    }
   ],
   "source": [
    "print('valores ausentes en critic_score:',df_games['critic_score'].isna().sum())\n",
    "print('valores ausentes en user_score:',df_games['user_score'].isna().sum())\n",
    "print('valores ausentes en rating:',df_games['rating'].isna().sum())"
   ]
  },
  {
   "cell_type": "markdown",
   "metadata": {},
   "source": [
    "Los valores ausentes de las columnas 'critic_score', 'user_score' y 'rating', solo indican que los juegos no recibieron una puntuación, por parte de los usuarios o la crítica, o que no tienen una clasificación definida, pero aún conservan otros datos. Por otro lado, no podemos sustituir estos valores con 0, pues esto sesgará los resultados a la izquierda, así que usaremos la mediana.  \n",
    "Para el caso especifico de la clasificación, no podemos asignarles una categoría específica a los videojuegos con valores ausentes. Hacerlo podría distorsionar las estadísticas y sesgarlas a favor del género elegido. Por lo tanto, optaremos por reemplazar los valores faltantes con el carácter 'U' de 'unknown'."
   ]
  },
  {
   "cell_type": "markdown",
   "metadata": {},
   "source": [
    "Además, los juegos que tienen una puntuación por parte de los usuarios como ‘por determinar’ (tbd) los consideraremos con una puntuación ausente. Por les asignaremos el valor 'NaN'."
   ]
  },
  {
   "cell_type": "code",
   "execution_count": 14,
   "metadata": {},
   "outputs": [
    {
     "name": "stdout",
     "output_type": "stream",
     "text": [
      "NaN    6699\n",
      "tbd    2424\n",
      "7.8     324\n",
      "8       290\n",
      "8.2     282\n",
      "Name: user_score, dtype: int64\n",
      "\n",
      "\n",
      "NaN    9123\n",
      "7.8     324\n",
      "8       290\n",
      "8.2     282\n",
      "8.3     254\n",
      "Name: user_score, dtype: int64\n"
     ]
    }
   ],
   "source": [
    "print(df_games['user_score'].value_counts(dropna=False).head())\n",
    "df_games['user_score'] = df_games['user_score'].replace('tbd', np.nan) # asignamos NaN a los juegos con tbd\n",
    "print('\\n')\n",
    "print(df_games['user_score'].value_counts(dropna=False).head())"
   ]
  },
  {
   "cell_type": "code",
   "execution_count": 15,
   "metadata": {},
   "outputs": [
    {
     "name": "stdout",
     "output_type": "stream",
     "text": [
      "71.0\n",
      "7.5\n"
     ]
    }
   ],
   "source": [
    "# obtenemos las medianas para las columnas númericas\n",
    "critic_score_median = df_games['critic_score'].median()\n",
    "user_score_median = df_games['user_score'].median()\n",
    "print(critic_score_median)\n",
    "print(user_score_median)"
   ]
  },
  {
   "cell_type": "code",
   "execution_count": 21,
   "metadata": {},
   "outputs": [],
   "source": [
    "df_games['critic_score'].fillna(critic_score_median, inplace=True)\n",
    "df_games['user_score'].fillna(user_score_median, inplace=True)\n",
    "df_games['rating'].fillna('U', inplace=True)"
   ]
  },
  {
   "cell_type": "markdown",
   "metadata": {},
   "source": [
    "<div class=\"alert alert-block alert-danger\">\n",
    "    <b>Comentario del revisor:</b> <a class=\"tocSkip\"></a>\n",
    "    \n",
    "Cuando tenemos distribuciones sesgadas como en este caso se recomienda usar la mediana para no sesgar los resultados\n",
    "</div>"
   ]
  },
  {
   "cell_type": "markdown",
   "metadata": {},
   "source": [
    "<div class=\"alert alert-block alert-success\">\n",
    "<b>Comentario del revisor</b> <a class=\"tocSkip\"></a>\n",
    "\n",
    "Muy buen trabajo con los ajustes!\n",
    "</div>"
   ]
  },
  {
   "cell_type": "markdown",
   "metadata": {},
   "source": [
    "### Tipos de datos"
   ]
  },
  {
   "cell_type": "code",
   "execution_count": 24,
   "metadata": {},
   "outputs": [
    {
     "name": "stdout",
     "output_type": "stream",
     "text": [
      "True\n"
     ]
    }
   ],
   "source": [
    "# Verifiquemos si podemos hacer la conversión de float a int para la columna 'year_of_release'\n",
    "print(np.array_equal(df_games['year_of_release'],df_games['year_of_release'].astype('int')))"
   ]
  },
  {
   "cell_type": "markdown",
   "metadata": {},
   "source": [
    "Es seguro convertir la columna de año de lanzamiento a tipo entero, ya que no contiene valores con punto decimal. Por lo tanto, procederemos a convertir la columna ‘year_of_release’ a tipo int y la columna ‘user_score’ a tipo float. Esta transformación es apropiada, ya que los años no tienen valores fraccionarios, y el puntaje debe ser de tipo numérico para realizar operaciones con él."
   ]
  },
  {
   "cell_type": "code",
   "execution_count": 25,
   "metadata": {},
   "outputs": [],
   "source": [
    "df_games['year_of_release'] = df_games['year_of_release'].astype('int')\n",
    "df_games['user_score'] = df_games['user_score'].astype('float')"
   ]
  },
  {
   "cell_type": "code",
   "execution_count": 26,
   "metadata": {
    "scrolled": true
   },
   "outputs": [
    {
     "name": "stdout",
     "output_type": "stream",
     "text": [
      "<class 'pandas.core.frame.DataFrame'>\n",
      "Int64Index: 16713 entries, 0 to 16714\n",
      "Data columns (total 11 columns):\n",
      " #   Column           Non-Null Count  Dtype  \n",
      "---  ------           --------------  -----  \n",
      " 0   name             16713 non-null  object \n",
      " 1   platform         16713 non-null  object \n",
      " 2   year_of_release  16713 non-null  int64  \n",
      " 3   genre            16713 non-null  object \n",
      " 4   na_sales         16713 non-null  float64\n",
      " 5   eu_sales         16713 non-null  float64\n",
      " 6   jp_sales         16713 non-null  float64\n",
      " 7   other_sales      16713 non-null  float64\n",
      " 8   critic_score     16713 non-null  float64\n",
      " 9   user_score       16713 non-null  float64\n",
      " 10  rating           16713 non-null  object \n",
      "dtypes: float64(6), int64(1), object(4)\n",
      "memory usage: 1.5+ MB\n"
     ]
    }
   ],
   "source": [
    "# vemos el dataframe resultante después de las transformaciones\n",
    "df_games.info()"
   ]
  },
  {
   "cell_type": "markdown",
   "metadata": {},
   "source": [
    "### Ventas totales\n",
    "Calcularemos las ventas totales para cada juego, sumando las ventas de cada región y crearemos una nueva columna con ese dato."
   ]
  },
  {
   "cell_type": "code",
   "execution_count": 27,
   "metadata": {},
   "outputs": [
    {
     "name": "stdout",
     "output_type": "stream",
     "text": [
      "0        74.09\n",
      "1        39.47\n",
      "2        32.23\n",
      "3        29.82\n",
      "4        30.38\n",
      "         ...  \n",
      "16710     0.01\n",
      "16711     0.01\n",
      "16712     0.01\n",
      "16713     0.01\n",
      "16714     0.01\n",
      "Name: total_sales, Length: 16713, dtype: float64\n"
     ]
    }
   ],
   "source": [
    "df_games['total_sales'] = df_games['na_sales'] + df_games['eu_sales'] + df_games['jp_sales']\n",
    "print(df_games['total_sales'])"
   ]
  },
  {
   "cell_type": "markdown",
   "metadata": {},
   "source": [
    "<div class=\"alert alert-block alert-success\">\n",
    "<b>Comentario del revisor:</b> <a class=\"tocSkip\"></a>\n",
    "    \n",
    "Hola! Muy buen trabajo en la sección, ajustaste los nombres de las columnas a minúsculas con el uso de la función str.lower(), cambiaste el tipo de variable de dos de las variables de la base de datos, consideraste ajustar los valores ausentes de las variables identificadas de score y muy buen trabajo con la suma de todas las ventas. \n",
    "    \n",
    "   \n",
    "\n",
    "</div>"
   ]
  },
  {
   "cell_type": "markdown",
   "metadata": {},
   "source": [
    "## Análisis de datos"
   ]
  },
  {
   "cell_type": "markdown",
   "metadata": {},
   "source": [
    "### Lanzamientos anuales  \n",
    "\n",
    "Graficaremos la cantidad de juegos lanzados por año para ver si existe algún patrón o diferencia significativa."
   ]
  },
  {
   "cell_type": "code",
   "execution_count": 28,
   "metadata": {},
   "outputs": [
    {
     "data": {
      "text/html": [
       "<div>\n",
       "<style scoped>\n",
       "    .dataframe tbody tr th:only-of-type {\n",
       "        vertical-align: middle;\n",
       "    }\n",
       "\n",
       "    .dataframe tbody tr th {\n",
       "        vertical-align: top;\n",
       "    }\n",
       "\n",
       "    .dataframe thead th {\n",
       "        text-align: right;\n",
       "    }\n",
       "</style>\n",
       "<table border=\"1\" class=\"dataframe\">\n",
       "  <thead>\n",
       "    <tr style=\"text-align: right;\">\n",
       "      <th></th>\n",
       "      <th>name</th>\n",
       "      <th>platform</th>\n",
       "      <th>year_of_release</th>\n",
       "      <th>genre</th>\n",
       "      <th>na_sales</th>\n",
       "      <th>eu_sales</th>\n",
       "      <th>jp_sales</th>\n",
       "      <th>other_sales</th>\n",
       "      <th>critic_score</th>\n",
       "      <th>user_score</th>\n",
       "      <th>rating</th>\n",
       "      <th>total_sales</th>\n",
       "    </tr>\n",
       "  </thead>\n",
       "  <tbody>\n",
       "    <tr>\n",
       "      <th>0</th>\n",
       "      <td>Wii Sports</td>\n",
       "      <td>Wii</td>\n",
       "      <td>2006</td>\n",
       "      <td>Sports</td>\n",
       "      <td>41.36</td>\n",
       "      <td>28.96</td>\n",
       "      <td>3.77</td>\n",
       "      <td>8.45</td>\n",
       "      <td>76.0</td>\n",
       "      <td>8.0</td>\n",
       "      <td>E</td>\n",
       "      <td>74.09</td>\n",
       "    </tr>\n",
       "    <tr>\n",
       "      <th>1</th>\n",
       "      <td>Super Mario Bros.</td>\n",
       "      <td>NES</td>\n",
       "      <td>1985</td>\n",
       "      <td>Platform</td>\n",
       "      <td>29.08</td>\n",
       "      <td>3.58</td>\n",
       "      <td>6.81</td>\n",
       "      <td>0.77</td>\n",
       "      <td>71.0</td>\n",
       "      <td>7.5</td>\n",
       "      <td>U</td>\n",
       "      <td>39.47</td>\n",
       "    </tr>\n",
       "    <tr>\n",
       "      <th>2</th>\n",
       "      <td>Mario Kart Wii</td>\n",
       "      <td>Wii</td>\n",
       "      <td>2008</td>\n",
       "      <td>Racing</td>\n",
       "      <td>15.68</td>\n",
       "      <td>12.76</td>\n",
       "      <td>3.79</td>\n",
       "      <td>3.29</td>\n",
       "      <td>82.0</td>\n",
       "      <td>8.3</td>\n",
       "      <td>E</td>\n",
       "      <td>32.23</td>\n",
       "    </tr>\n",
       "    <tr>\n",
       "      <th>3</th>\n",
       "      <td>Wii Sports Resort</td>\n",
       "      <td>Wii</td>\n",
       "      <td>2009</td>\n",
       "      <td>Sports</td>\n",
       "      <td>15.61</td>\n",
       "      <td>10.93</td>\n",
       "      <td>3.28</td>\n",
       "      <td>2.95</td>\n",
       "      <td>80.0</td>\n",
       "      <td>8.0</td>\n",
       "      <td>E</td>\n",
       "      <td>29.82</td>\n",
       "    </tr>\n",
       "    <tr>\n",
       "      <th>4</th>\n",
       "      <td>Pokemon Red/Pokemon Blue</td>\n",
       "      <td>GB</td>\n",
       "      <td>1996</td>\n",
       "      <td>Role-Playing</td>\n",
       "      <td>11.27</td>\n",
       "      <td>8.89</td>\n",
       "      <td>10.22</td>\n",
       "      <td>1.00</td>\n",
       "      <td>71.0</td>\n",
       "      <td>7.5</td>\n",
       "      <td>U</td>\n",
       "      <td>30.38</td>\n",
       "    </tr>\n",
       "  </tbody>\n",
       "</table>\n",
       "</div>"
      ],
      "text/plain": [
       "                       name platform  year_of_release         genre  na_sales  \\\n",
       "0                Wii Sports      Wii             2006        Sports     41.36   \n",
       "1         Super Mario Bros.      NES             1985      Platform     29.08   \n",
       "2            Mario Kart Wii      Wii             2008        Racing     15.68   \n",
       "3         Wii Sports Resort      Wii             2009        Sports     15.61   \n",
       "4  Pokemon Red/Pokemon Blue       GB             1996  Role-Playing     11.27   \n",
       "\n",
       "   eu_sales  jp_sales  other_sales  critic_score  user_score rating  \\\n",
       "0     28.96      3.77         8.45          76.0         8.0      E   \n",
       "1      3.58      6.81         0.77          71.0         7.5      U   \n",
       "2     12.76      3.79         3.29          82.0         8.3      E   \n",
       "3     10.93      3.28         2.95          80.0         8.0      E   \n",
       "4      8.89     10.22         1.00          71.0         7.5      U   \n",
       "\n",
       "   total_sales  \n",
       "0        74.09  \n",
       "1        39.47  \n",
       "2        32.23  \n",
       "3        29.82  \n",
       "4        30.38  "
      ]
     },
     "execution_count": 28,
     "metadata": {},
     "output_type": "execute_result"
    }
   ],
   "source": [
    "df_games.head()"
   ]
  },
  {
   "cell_type": "code",
   "execution_count": 29,
   "metadata": {},
   "outputs": [
    {
     "data": {
      "image/png": "[encoded data removed]",
      "text/plain": [
       "<Figure size 640x480 with 1 Axes>"
      ]
     },
     "metadata": {},
     "output_type": "display_data"
    }
   ],
   "source": [
    "games_per_year = df_games['year_of_release'].value_counts().sort_index()\n",
    "games_per_year.plot(\n",
    "    kind='bar', \n",
    "    title='yearly releases', \n",
    "    xlabel='years',\n",
    "    ylabel='games',\n",
    "    grid=True\n",
    ")\n",
    "plt.show()"
   ]
  },
  {
   "cell_type": "markdown",
   "metadata": {},
   "source": [
    "Entre 2002 y 2011, hubo un auge en el lanzamiento de videojuegos. En los años más recientes, el número de lanzamientos se ha reducido y se ha mantenido en un promedio aproximado de 500 a 600 juegos por año. Esto podría deberse a una disminución real en la producción de videojuegos o, alternativamente, podría ser que el conjunto de datos contenga más videojuegos del período mencionado"
   ]
  },
  {
   "cell_type": "markdown",
   "metadata": {},
   "source": [
    "### Plataformas\n",
    "Realizaremos un análisis con respecto a los datos anuales de las plataformas con mayores ventas. Con estos resultados, veremos el incremento y la disminución en las ventas de cada plataforma atravez de los años."
   ]
  },
  {
   "cell_type": "code",
   "execution_count": 31,
   "metadata": {},
   "outputs": [
    {
     "name": "stdout",
     "output_type": "stream",
     "text": [
      "platform\n",
      "PSP      11.02\n",
      "DS       11.84\n",
      "Wii      32.76\n",
      "PSV      43.38\n",
      "PC       56.88\n",
      "WiiU     76.24\n",
      "XOne    145.05\n",
      "3DS     185.74\n",
      "X360    216.14\n",
      "PS3     245.53\n",
      "PS4     265.79\n",
      "Name: total_sales, dtype: float64\n"
     ]
    }
   ],
   "source": [
    "# Obtenemos una lista de las plataformas con mejores ventas en los últimos años\n",
    "df_last_games = df_games[df_games['year_of_release']>2011] # filtramos los videjuegos más recientes\n",
    "df_platforms = df_last_games.groupby('platform')['total_sales'].sum().sort_values()\n",
    "print(df_platforms)"
   ]
  },
  {
   "cell_type": "code",
   "execution_count": 36,
   "metadata": {},
   "outputs": [
    {
     "data": {
      "text/plain": [
       "\"\\nbest_sellers = []\\nfor p in df_platforms.loc['Wii':].index:\\n    best_sellers.append(p)\\nprint(best_sellers)\\n\""
      ]
     },
     "execution_count": 36,
     "metadata": {},
     "output_type": "execute_result"
    }
   ],
   "source": [
    "# Creamos una lista de las plataformas con más de 70 millones de dolares en ventas\n",
    "\"\"\"\n",
    "best_sellers = []\n",
    "for p in df_platforms.loc['Wii':].index:\n",
    "    best_sellers.append(p)\n",
    "print(best_sellers)\n",
    "\"\"\""
   ]
  },
  {
   "cell_type": "code",
   "execution_count": 35,
   "metadata": {
    "scrolled": false
   },
   "outputs": [
    {
     "name": "stdout",
     "output_type": "stream",
     "text": [
      "   platform  year_of_release  total_sales\n",
      "0       3DS             2012        48.77\n",
      "1       3DS             2013        53.97\n",
      "2       3DS             2014        41.75\n",
      "3       3DS             2015        26.75\n",
      "4       3DS             2016        14.50\n",
      "5        DS             2012        10.42\n",
      "6        DS             2013         1.42\n",
      "7        PC             2012        20.41\n",
      "8        PC             2013        11.27\n",
      "9        PC             2014        12.38\n",
      "10       PC             2015         7.93\n",
      "11       PC             2016         4.89\n",
      "12      PS3             2012        90.87\n",
      "13      PS3             2013        95.85\n",
      "14      PS3             2014        40.88\n",
      "15      PS3             2015        14.70\n",
      "16      PS3             2016         3.23\n",
      "17      PS4             2013        22.12\n",
      "18      PS4             2014        84.22\n",
      "19      PS4             2015       100.44\n",
      "20      PS4             2016        59.01\n",
      "21      PSP             2012         7.56\n",
      "22      PSP             2013         3.10\n",
      "23      PSP             2014         0.24\n",
      "24      PSP             2015         0.12\n",
      "25      PSV             2012        13.65\n",
      "26      PSV             2013         9.14\n",
      "27      PSV             2014        10.56\n",
      "28      PSV             2015         5.93\n",
      "29      PSV             2016         4.10\n",
      "30      Wii             2012        20.22\n",
      "31      Wii             2013         7.87\n",
      "32      Wii             2014         3.45\n",
      "33      Wii             2015         1.05\n",
      "34      Wii             2016         0.17\n",
      "35     WiiU             2012        16.30\n",
      "36     WiiU             2013        20.12\n",
      "37     WiiU             2014        20.35\n",
      "38     WiiU             2015        15.22\n",
      "39     WiiU             2016         4.25\n",
      "40     X360             2012        91.45\n",
      "41     X360             2013        80.82\n",
      "42     X360             2014        31.61\n",
      "43     X360             2015        10.86\n",
      "44     X360             2016         1.40\n",
      "45     XOne             2013        17.21\n",
      "46     XOne             2014        49.26\n",
      "47     XOne             2015        54.67\n",
      "48     XOne             2016        23.91\n"
     ]
    }
   ],
   "source": [
    "# obtenemos las ventas de los lanzamientos anuales (2011 en adelante), agrupados por plataforma\n",
    "df_platforms_per_year = df_last_games.groupby(['platform','year_of_release'])['total_sales'].sum().reset_index()\n",
    "# comprobamos que la plataforma esté dentro de 'best_sellers'\n",
    "#df_platforms_per_year = df_platforms_per_year[df_platforms_per_year['platform'].isin(best_sellers)]\n",
    "print(df_platforms_per_year)"
   ]
  },
  {
   "cell_type": "code",
   "execution_count": 37,
   "metadata": {
    "scrolled": false
   },
   "outputs": [
    {
     "data": {
      "text/plain": [
       "<AxesSubplot:title={'center':'Yearly Sales'}, xlabel='years', ylabel='MM'>"
      ]
     },
     "execution_count": 37,
     "metadata": {},
     "output_type": "execute_result"
    },
    {
     "data": {
      "image/png": "[encoded data removed]",
      "text/plain": [
       "<Figure size 1500x1000 with 1 Axes>"
      ]
     },
     "metadata": {},
     "output_type": "display_data"
    }
   ],
   "source": [
    "pivot_platforms_per_year = df_platforms_per_year.pivot_table(index='year_of_release', columns='platform', values='total_sales')\n",
    "colores = plt.cm.coolwarm(np.linspace(0, 1, len(pivot_platforms_per_year)))\n",
    "pivot_platforms_per_year.plot(\n",
    "    kind='bar',\n",
    "    title='Yearly Sales',\n",
    "    xlabel='years',\n",
    "    ylabel='MM',\n",
    "    figsize=[15,10],\n",
    "    #color=colores\n",
    ")"
   ]
  },
  {
   "cell_type": "markdown",
   "metadata": {},
   "source": [
    "<div class=\"alert alert-block alert-warning\">\n",
    "<b>Comentario del revisor</b> <a class=\"tocSkip\"></a>\n",
    "    \n",
    "Gran trabajo con el desarrollo de la gráfica. Solamente te recomendaría que intentes reducir el periodo dado que el perido actual puede resultar muy extenso. Recordemos que con base en la información la popularidad la alcanzan en los primeros años. Es por ello que con un periodo largo puede no ser posible analizar de forma clara las plataformas y videojuegos actualizados y podrías estar analizando los desactualizados. Es por ello y dado que buscamos responder qué vender en 2017 te recomendareia gráficar un periodo que no supere los 5 años.     \n",
    "\n",
    "</div>"
   ]
  },
  {
   "cell_type": "markdown",
   "metadata": {},
   "source": [
    "<div class=\"alert alert-block alert-success\">\n",
    "<b>Comentario del revisor</b> <a class=\"tocSkip\"></a>\n",
    "\n",
    "Muy buen trabajo con los ajustes!\n",
    "</div>"
   ]
  },
  {
   "cell_type": "code",
   "execution_count": 38,
   "metadata": {},
   "outputs": [
    {
     "data": {
      "text/plain": [
       "platform\n",
       "3DS     4\n",
       "DS      1\n",
       "PC      4\n",
       "PS3     4\n",
       "PS4     3\n",
       "PSP     3\n",
       "PSV     4\n",
       "Wii     4\n",
       "WiiU    4\n",
       "X360    4\n",
       "XOne    3\n",
       "Name: year_of_release, dtype: int64"
      ]
     },
     "execution_count": 38,
     "metadata": {},
     "output_type": "execute_result"
    }
   ],
   "source": [
    "# obtenemos los años transcurridos para el tiempo en el mercado de cada plataforma\n",
    "df_platforms_per_year.groupby('platform')['year_of_release'].max()-df_platforms_per_year.groupby('platform')['year_of_release'].min()"
   ]
  },
  {
   "cell_type": "markdown",
   "metadata": {},
   "source": [
    "Con respecto al gráfico obtenido, podemos observar varias cosas. En primer lugar, notamos que una plataforma puede desaparecer del mercado en un periodo de 4 años, mientras que las nuevas plataformas, pueden alcanzar su pico máximo de ventas en un periodo de 3 años. Por ejemplo, tenemos la plataforma la PS4, que es relativamente nueva y recien lleva 4 años en el mercado. Es interesante ver cómo algunas plataformas que antes dominaban el mercado, como el Xbox 360, han reducido sus ventas significativamente. Esto podría deberse a la aparición de nuevas versiones de la misma consola o a la competencia de otras plataformas, así como el lanzamiento de nuevos juegos que no son compatibles con las antiguas plataformas."
   ]
  },
  {
   "cell_type": "markdown",
   "metadata": {},
   "source": [
    "A partir de la información obtenida y con el objetivo de obtener resultados más significativos, nos centraremos únicamente en el período de 2011 a 2016, ya que el objetivo de este proyecto es obtener un plan de negocio para obtener mejores ventas en 2017 y lo mejor será tener información actualizada.   \n",
    "Con respecto a las ventas registradas en los últimos años, las plataformas más rentables, aquellas que han experimentado un incremento en sus ventas o que han logrado mantenerse en el mercado a pesar del paso del tiempo, son XOne, PS4, 3DS, PC y WiiU."
   ]
  },
  {
   "cell_type": "code",
   "execution_count": 40,
   "metadata": {},
   "outputs": [
    {
     "data": {
      "text/html": [
       "<div>\n",
       "<style scoped>\n",
       "    .dataframe tbody tr th:only-of-type {\n",
       "        vertical-align: middle;\n",
       "    }\n",
       "\n",
       "    .dataframe tbody tr th {\n",
       "        vertical-align: top;\n",
       "    }\n",
       "\n",
       "    .dataframe thead th {\n",
       "        text-align: right;\n",
       "    }\n",
       "</style>\n",
       "<table border=\"1\" class=\"dataframe\">\n",
       "  <thead>\n",
       "    <tr style=\"text-align: right;\">\n",
       "      <th></th>\n",
       "      <th>name</th>\n",
       "      <th>platform</th>\n",
       "      <th>year_of_release</th>\n",
       "      <th>genre</th>\n",
       "      <th>na_sales</th>\n",
       "      <th>eu_sales</th>\n",
       "      <th>jp_sales</th>\n",
       "      <th>other_sales</th>\n",
       "      <th>critic_score</th>\n",
       "      <th>user_score</th>\n",
       "      <th>rating</th>\n",
       "      <th>total_sales</th>\n",
       "    </tr>\n",
       "  </thead>\n",
       "  <tbody>\n",
       "    <tr>\n",
       "      <th>16</th>\n",
       "      <td>Grand Theft Auto V</td>\n",
       "      <td>PS3</td>\n",
       "      <td>2013</td>\n",
       "      <td>Action</td>\n",
       "      <td>7.02</td>\n",
       "      <td>9.09</td>\n",
       "      <td>0.98</td>\n",
       "      <td>3.96</td>\n",
       "      <td>97.0</td>\n",
       "      <td>8.2</td>\n",
       "      <td>M</td>\n",
       "      <td>17.09</td>\n",
       "    </tr>\n",
       "    <tr>\n",
       "      <th>23</th>\n",
       "      <td>Grand Theft Auto V</td>\n",
       "      <td>X360</td>\n",
       "      <td>2013</td>\n",
       "      <td>Action</td>\n",
       "      <td>9.66</td>\n",
       "      <td>5.14</td>\n",
       "      <td>0.06</td>\n",
       "      <td>1.41</td>\n",
       "      <td>97.0</td>\n",
       "      <td>8.1</td>\n",
       "      <td>M</td>\n",
       "      <td>14.86</td>\n",
       "    </tr>\n",
       "    <tr>\n",
       "      <th>29</th>\n",
       "      <td>Call of Duty: Modern Warfare 3</td>\n",
       "      <td>X360</td>\n",
       "      <td>2011</td>\n",
       "      <td>Shooter</td>\n",
       "      <td>9.04</td>\n",
       "      <td>4.24</td>\n",
       "      <td>0.13</td>\n",
       "      <td>1.32</td>\n",
       "      <td>88.0</td>\n",
       "      <td>3.4</td>\n",
       "      <td>M</td>\n",
       "      <td>13.41</td>\n",
       "    </tr>\n",
       "    <tr>\n",
       "      <th>31</th>\n",
       "      <td>Call of Duty: Black Ops 3</td>\n",
       "      <td>PS4</td>\n",
       "      <td>2015</td>\n",
       "      <td>Shooter</td>\n",
       "      <td>6.03</td>\n",
       "      <td>5.86</td>\n",
       "      <td>0.36</td>\n",
       "      <td>2.38</td>\n",
       "      <td>71.0</td>\n",
       "      <td>7.5</td>\n",
       "      <td>U</td>\n",
       "      <td>12.25</td>\n",
       "    </tr>\n",
       "    <tr>\n",
       "      <th>33</th>\n",
       "      <td>Pokemon X/Pokemon Y</td>\n",
       "      <td>3DS</td>\n",
       "      <td>2013</td>\n",
       "      <td>Role-Playing</td>\n",
       "      <td>5.28</td>\n",
       "      <td>4.19</td>\n",
       "      <td>4.35</td>\n",
       "      <td>0.78</td>\n",
       "      <td>71.0</td>\n",
       "      <td>7.5</td>\n",
       "      <td>U</td>\n",
       "      <td>13.82</td>\n",
       "    </tr>\n",
       "  </tbody>\n",
       "</table>\n",
       "</div>"
      ],
      "text/plain": [
       "                              name platform  year_of_release         genre  \\\n",
       "16              Grand Theft Auto V      PS3             2013        Action   \n",
       "23              Grand Theft Auto V     X360             2013        Action   \n",
       "29  Call of Duty: Modern Warfare 3     X360             2011       Shooter   \n",
       "31       Call of Duty: Black Ops 3      PS4             2015       Shooter   \n",
       "33             Pokemon X/Pokemon Y      3DS             2013  Role-Playing   \n",
       "\n",
       "    na_sales  eu_sales  jp_sales  other_sales  critic_score  user_score  \\\n",
       "16      7.02      9.09      0.98         3.96          97.0         8.2   \n",
       "23      9.66      5.14      0.06         1.41          97.0         8.1   \n",
       "29      9.04      4.24      0.13         1.32          88.0         3.4   \n",
       "31      6.03      5.86      0.36         2.38          71.0         7.5   \n",
       "33      5.28      4.19      4.35         0.78          71.0         7.5   \n",
       "\n",
       "   rating  total_sales  \n",
       "16      M        17.09  \n",
       "23      M        14.86  \n",
       "29      M        13.41  \n",
       "31      U        12.25  \n",
       "33      U        13.82  "
      ]
     },
     "execution_count": 40,
     "metadata": {},
     "output_type": "execute_result"
    }
   ],
   "source": [
    "# obtenemos una df en el que solo se incluyan videojuegos que hayan sido lanzados después del 2011\n",
    "# top_selling_platforms = ['XOne', 'PS4', '3DS', 'PC', 'WiiU']\n",
    "df_games_filtered = df_games[df_games['year_of_release']>=2011]\n",
    "df_games_filtered.head()\n"
   ]
  },
  {
   "cell_type": "markdown",
   "metadata": {},
   "source": [
    "### Ventas globales de todos los juegos, desglosados por plataforma."
   ]
  },
  {
   "cell_type": "code",
   "execution_count": 41,
   "metadata": {},
   "outputs": [
    {
     "name": "stdout",
     "output_type": "stream",
     "text": [
      "platform\n",
      "PS2       0.35\n",
      "PSP      28.00\n",
      "DS       36.14\n",
      "PSV      47.38\n",
      "WiiU     76.24\n",
      "PC       86.58\n",
      "Wii      87.13\n",
      "XOne    145.05\n",
      "3DS     244.54\n",
      "PS4     265.79\n",
      "X360    347.25\n",
      "PS3     380.75\n",
      "Name: total_sales, dtype: float64\n",
      "\n",
      "count     12.000000\n",
      "mean     145.433333\n",
      "std      130.892693\n",
      "min        0.350000\n",
      "25%       44.570000\n",
      "50%       86.855000\n",
      "75%      249.852500\n",
      "max      380.750000\n",
      "Name: total_sales, dtype: float64\n",
      "Mediana: 86.85500000000006\n"
     ]
    },
    {
     "data": {
      "text/plain": [
       "<AxesSubplot:xlabel='total_sales'>"
      ]
     },
     "execution_count": 41,
     "metadata": {},
     "output_type": "execute_result"
    },
    {
     "data": {
      "image/png": "[encoded data removed]",
      "text/plain": [
       "<Figure size 640x480 with 1 Axes>"
      ]
     },
     "metadata": {},
     "output_type": "display_data"
    }
   ],
   "source": [
    "df_sales_per_platform = df_games_filtered.groupby('platform')['total_sales'].sum()\n",
    "print(df_sales_per_platform.sort_values())\n",
    "print()\n",
    "print(df_sales_per_platform.describe())\n",
    "print('Mediana:',df_sales_per_platform.median())\n",
    "sns.boxplot(df_sales_per_platform)"
   ]
  },
  {
   "cell_type": "markdown",
   "metadata": {},
   "source": [
    "<div class=\"alert alert-block alert-warning\">\n",
    "    <b>Comentario del revisor</b> <a class=\"tocSkip\"></a>\n",
    "    \n",
    "Recuerda que los graficos de box-plot nos ayudan a identificar outliers que posteriomente en el desarrollo de las pruebas de hipótesis nos servirían eliminar para que no puedan sesgar nuestros resultados. \n",
    "</div>"
   ]
  },
  {
   "cell_type": "markdown",
   "metadata": {},
   "source": [
    "Según los datos, el 75% de las plataformas registra ventas por debajo de los 249.85 millones de dólares (mdd), mientras que la plataforma con el mayor ingreso alcanza los 380.75 mdd. La desviación estándar, que mide la dispersión de los datos con respecto a la media, es alta. Esto significa que los valores varían significativamente en relación al promedio. Además, los datos presentan un sesgo hacia la derecha, lo que indica que la mayoría de las cifras están por encima de la mediana."
   ]
  },
  {
   "cell_type": "markdown",
   "metadata": {},
   "source": [
    "<div class=\"alert alert-block alert-info\">\n",
    "<b>Hola, intenté eliminar las plataformas que yo identifiqué como outliers haciendo el siguiente análisis, pero no veo una diferencia significativa ¿Me podría indicar si estoy haciendo un buen análisis o qué debería tomar en cuenta? Gracias de antemano.</b> <a class=\"tocSkip\"></a>\n",
    "</div>\n",
    "\n",
    "Si bien dentro de la gráfica no existen valores atipicos, el hecho de que el valor máximo esté tan lejos del 75% de los datos, podría causar que los resultados de futuras hipótesis se vean afectados. Por esto, eliminaremos esta plataforma del dataframe filtrado y volveremos a gráficar para ver si ha habido una diferencia."
   ]
  },
  {
   "cell_type": "markdown",
   "metadata": {},
   "source": [
    "<div class=\"alert alert-block alert-success\">\n",
    "<b>Comentario del revisor</b> <a class=\"tocSkip\"></a>\n",
    "\n",
    "Hola! Es correcto el análisis que desarrollas. En otros casos, cuando eliminemos outliers nuestros rresultados cambiaran significativamente\n",
    "</div>"
   ]
  },
  {
   "cell_type": "code",
   "execution_count": 52,
   "metadata": {},
   "outputs": [
    {
     "name": "stdout",
     "output_type": "stream",
     "text": [
      "platform\n",
      "PSP      28.00\n",
      "DS       36.14\n",
      "PSV      47.38\n",
      "WiiU     76.24\n",
      "PC       86.58\n",
      "Wii      87.13\n",
      "XOne    145.05\n",
      "3DS     244.54\n",
      "PS4     265.79\n",
      "X360    347.25\n",
      "Name: total_sales, dtype: float64\n",
      "\n",
      "count     10.000000\n",
      "mean     136.410000\n",
      "std      111.167818\n",
      "min       28.000000\n",
      "25%       54.595000\n",
      "50%       86.855000\n",
      "75%      219.667500\n",
      "max      347.250000\n",
      "Name: total_sales, dtype: float64\n",
      "Mediana: 86.85500000000006\n"
     ]
    },
    {
     "data": {
      "text/plain": [
       "<AxesSubplot:xlabel='total_sales'>"
      ]
     },
     "execution_count": 52,
     "metadata": {},
     "output_type": "execute_result"
    },
    {
     "data": {
      "image/png": "[encoded data removed]",
      "text/plain": [
       "<Figure size 640x480 with 1 Axes>"
      ]
     },
     "metadata": {},
     "output_type": "display_data"
    }
   ],
   "source": [
    "df_2 = df_games_filtered[(df_games_filtered['platform']!='PS3')&(df_games_filtered['platform']!='PS2')]\n",
    "df_sales_per_platform_2 = df_2.groupby('platform')['total_sales'].sum()\n",
    "print(df_sales_per_platform_2.sort_values())\n",
    "print()\n",
    "print(df_sales_per_platform_2.describe())\n",
    "print('Mediana:',df_sales_per_platform_2.median())\n",
    "sns.boxplot(df_sales_per_platform_2)"
   ]
  },
  {
   "cell_type": "markdown",
   "metadata": {},
   "source": [
    "### Reseñas\n",
    "Analizaremos como las reseñas de la crítica y de los usarios influyen en la compra de los videojuegos para una plataforma."
   ]
  },
  {
   "cell_type": "code",
   "execution_count": 53,
   "metadata": {},
   "outputs": [
    {
     "data": {
      "text/plain": [
       "platform\n",
       "PS2       7\n",
       "WiiU    147\n",
       "DS      184\n",
       "Wii     197\n",
       "XOne    247\n",
       "PSP     312\n",
       "PC      389\n",
       "PS4     392\n",
       "PSV     429\n",
       "X360    498\n",
       "3DS     512\n",
       "PS3     708\n",
       "Name: name, dtype: int64"
      ]
     },
     "execution_count": 53,
     "metadata": {},
     "output_type": "execute_result"
    }
   ],
   "source": [
    "# elegiremos la plataforma con más lanzamientos\n",
    "df_games_filtered.groupby('platform')['name'].count().sort_values()"
   ]
  },
  {
   "cell_type": "markdown",
   "metadata": {},
   "source": [
    "#### Puntuación de la crítica"
   ]
  },
  {
   "cell_type": "code",
   "execution_count": 67,
   "metadata": {},
   "outputs": [
    {
     "data": {
      "image/png": "[encoded data removed]",
      "text/plain": [
       "<Figure size 640x480 with 1 Axes>"
      ]
     },
     "metadata": {},
     "output_type": "display_data"
    }
   ],
   "source": [
    "df_games_pc = df_games_filtered[df_games_filtered['platform']=='3DS']\n",
    "df_games_pc.plot(\n",
    "    x='total_sales', \n",
    "    y='critic_score', \n",
    "    kind='scatter', \n",
    "    alpha= 0.5,\n",
    "    title = 'Critic influence'\n",
    ")\n",
    "plt.show()"
   ]
  },
  {
   "cell_type": "code",
   "execution_count": 68,
   "metadata": {},
   "outputs": [
    {
     "name": "stdout",
     "output_type": "stream",
     "text": [
      "coeficiente de correlación: 0.19884667607997514\n"
     ]
    }
   ],
   "source": [
    "#obtenemos el coeficiente de correlación\n",
    "print('coeficiente de correlación:',df_games_pc['total_sales'].corr(df_games_pc['critic_score']))"
   ]
  },
  {
   "cell_type": "markdown",
   "metadata": {},
   "source": [
    "Observamos que existe una correlación positiva entre la opinión de la crítica y las ventas, aunque esta correlación es bastante débil, apenas alcanzando un valor de 0.19. Esto sugiere que la influencia de la opinión crítica en las ventas es limitada."
   ]
  },
  {
   "cell_type": "markdown",
   "metadata": {},
   "source": [
    "#### Puntuación de los usuarios"
   ]
  },
  {
   "cell_type": "code",
   "execution_count": 69,
   "metadata": {},
   "outputs": [
    {
     "data": {
      "image/png": "[encoded data removed]",
      "text/plain": [
       "<Figure size 640x480 with 1 Axes>"
      ]
     },
     "metadata": {},
     "output_type": "display_data"
    }
   ],
   "source": [
    "df_games_pc.plot(\n",
    "    x='total_sales', \n",
    "    y='user_score', \n",
    "    kind='scatter', \n",
    "    alpha= 0.5,\n",
    "    title = 'User influence'\n",
    ")\n",
    "plt.show()"
   ]
  },
  {
   "cell_type": "code",
   "execution_count": 70,
   "metadata": {},
   "outputs": [
    {
     "name": "stdout",
     "output_type": "stream",
     "text": [
      "coeficiente de correlación: 0.1012632109204729\n"
     ]
    }
   ],
   "source": [
    "#obtenemos el coeficiente de correlación\n",
    "print('coeficiente de correlación:',df_games_pc['total_sales'].corr(df_games_pc['user_score']))"
   ]
  },
  {
   "cell_type": "markdown",
   "metadata": {},
   "source": [
    "La correlación entre las ventas y la puntuación de los usuarios es ligeramente más baja. En resumen, parece que la opinión de la crítica tiene una mayor influencia en las ventas en comparación con la opinión de los usuarios."
   ]
  },
  {
   "cell_type": "markdown",
   "metadata": {},
   "source": [
    "<div class=\"alert alert-block alert-success\">\n",
    "    <b>Comentario del revisor</b> <a class=\"tocSkip\"></a>\n",
    "    \n",
    "Muy buen trabajo con el análisis de la relación estre las scores y las ventas. \n",
    "</div>"
   ]
  },
  {
   "cell_type": "markdown",
   "metadata": {},
   "source": [
    "### Ventas en distintas plataformas\n",
    "Compararemos las ventas de algunos juegos en distintas platafomas"
   ]
  },
  {
   "cell_type": "code",
   "execution_count": 71,
   "metadata": {},
   "outputs": [
    {
     "data": {
      "text/plain": [
       "name\n",
       "LEGO Jurassic World         8\n",
       "Angry Birds Star Wars       8\n",
       "FIFA 15                     8\n",
       "LEGO Marvel Super Heroes    9\n",
       "FIFA 14                     9\n",
       "Name: platform, dtype: int64"
      ]
     },
     "execution_count": 71,
     "metadata": {},
     "output_type": "execute_result"
    }
   ],
   "source": [
    "# Obtenemos los juegos con más diversidad de plataformas\n",
    "games = df_games_filtered.groupby('name')['platform'].count().sort_values().tail(5)\n",
    "games"
   ]
  },
  {
   "cell_type": "code",
   "execution_count": 72,
   "metadata": {},
   "outputs": [
    {
     "data": {
      "text/plain": [
       "<AxesSubplot:xlabel='platform', ylabel='total_sales'>"
      ]
     },
     "execution_count": 72,
     "metadata": {},
     "output_type": "execute_result"
    },
    {
     "data": {
      "image/png": "[encoded data removed]",
      "text/plain": [
       "<Figure size 640x480 with 1 Axes>"
      ]
     },
     "metadata": {},
     "output_type": "display_data"
    }
   ],
   "source": [
    "# LEGO Jurassic World\n",
    "games = df_games_filtered[df_games_filtered['name'].isin(games.index)]\n",
    "sns.barplot(data=games, x='platform', y='total_sales', hue='name')"
   ]
  },
  {
   "cell_type": "markdown",
   "metadata": {},
   "source": [
    "Aunque las plataformas que los usarios eligen son muy variadas, podemos identificar algunas que destacan por su versatilidad y que tienen una mayor preferencia."
   ]
  },
  {
   "cell_type": "markdown",
   "metadata": {},
   "source": [
    "### Generos\n",
    "Buscaremos cuales son los generos con mayores ventas."
   ]
  },
  {
   "cell_type": "code",
   "execution_count": 73,
   "metadata": {},
   "outputs": [
    {
     "data": {
      "text/html": [
       "<div>\n",
       "<style scoped>\n",
       "    .dataframe tbody tr th:only-of-type {\n",
       "        vertical-align: middle;\n",
       "    }\n",
       "\n",
       "    .dataframe tbody tr th {\n",
       "        vertical-align: top;\n",
       "    }\n",
       "\n",
       "    .dataframe thead th {\n",
       "        text-align: right;\n",
       "    }\n",
       "</style>\n",
       "<table border=\"1\" class=\"dataframe\">\n",
       "  <thead>\n",
       "    <tr style=\"text-align: right;\">\n",
       "      <th></th>\n",
       "      <th>total_sales</th>\n",
       "      <th>name</th>\n",
       "    </tr>\n",
       "    <tr>\n",
       "      <th>genre</th>\n",
       "      <th></th>\n",
       "      <th></th>\n",
       "    </tr>\n",
       "  </thead>\n",
       "  <tbody>\n",
       "    <tr>\n",
       "      <th>Puzzle</th>\n",
       "      <td>9.21</td>\n",
       "      <td>71</td>\n",
       "    </tr>\n",
       "    <tr>\n",
       "      <th>Strategy</th>\n",
       "      <td>20.28</td>\n",
       "      <td>117</td>\n",
       "    </tr>\n",
       "    <tr>\n",
       "      <th>Adventure</th>\n",
       "      <td>40.79</td>\n",
       "      <td>410</td>\n",
       "    </tr>\n",
       "    <tr>\n",
       "      <th>Simulation</th>\n",
       "      <td>46.73</td>\n",
       "      <td>136</td>\n",
       "    </tr>\n",
       "    <tr>\n",
       "      <th>Fighting</th>\n",
       "      <td>60.25</td>\n",
       "      <td>159</td>\n",
       "    </tr>\n",
       "    <tr>\n",
       "      <th>Racing</th>\n",
       "      <td>78.20</td>\n",
       "      <td>180</td>\n",
       "    </tr>\n",
       "    <tr>\n",
       "      <th>Platform</th>\n",
       "      <td>80.48</td>\n",
       "      <td>122</td>\n",
       "    </tr>\n",
       "    <tr>\n",
       "      <th>Misc</th>\n",
       "      <td>127.01</td>\n",
       "      <td>375</td>\n",
       "    </tr>\n",
       "    <tr>\n",
       "      <th>Sports</th>\n",
       "      <td>208.27</td>\n",
       "      <td>389</td>\n",
       "    </tr>\n",
       "    <tr>\n",
       "      <th>Role-Playing</th>\n",
       "      <td>225.95</td>\n",
       "      <td>465</td>\n",
       "    </tr>\n",
       "    <tr>\n",
       "      <th>Shooter</th>\n",
       "      <td>354.37</td>\n",
       "      <td>329</td>\n",
       "    </tr>\n",
       "    <tr>\n",
       "      <th>Action</th>\n",
       "      <td>493.66</td>\n",
       "      <td>1269</td>\n",
       "    </tr>\n",
       "  </tbody>\n",
       "</table>\n",
       "</div>"
      ],
      "text/plain": [
       "              total_sales  name\n",
       "genre                          \n",
       "Puzzle               9.21    71\n",
       "Strategy            20.28   117\n",
       "Adventure           40.79   410\n",
       "Simulation          46.73   136\n",
       "Fighting            60.25   159\n",
       "Racing              78.20   180\n",
       "Platform            80.48   122\n",
       "Misc               127.01   375\n",
       "Sports             208.27   389\n",
       "Role-Playing       225.95   465\n",
       "Shooter            354.37   329\n",
       "Action             493.66  1269"
      ]
     },
     "execution_count": 73,
     "metadata": {},
     "output_type": "execute_result"
    }
   ],
   "source": [
    "agg_dict = {'total_sales': 'sum', 'name': 'count'}\n",
    "df_genres = df_games_filtered.groupby('genre').agg(agg_dict).sort_values('total_sales')\n",
    "df_genres"
   ]
  },
  {
   "cell_type": "markdown",
   "metadata": {},
   "source": [
    "Debido a la variabilidad en el número de videojuegos por género, no podemos determinar el éxito relativo de un género basándonos únicamente en las ventas totales. Sin embargo, podemos calcular una proporción en función de estos dos valores."
   ]
  },
  {
   "cell_type": "code",
   "execution_count": 74,
   "metadata": {},
   "outputs": [
    {
     "data": {
      "text/html": [
       "<div>\n",
       "<style scoped>\n",
       "    .dataframe tbody tr th:only-of-type {\n",
       "        vertical-align: middle;\n",
       "    }\n",
       "\n",
       "    .dataframe tbody tr th {\n",
       "        vertical-align: top;\n",
       "    }\n",
       "\n",
       "    .dataframe thead th {\n",
       "        text-align: right;\n",
       "    }\n",
       "</style>\n",
       "<table border=\"1\" class=\"dataframe\">\n",
       "  <thead>\n",
       "    <tr style=\"text-align: right;\">\n",
       "      <th></th>\n",
       "      <th>total_sales</th>\n",
       "      <th>name</th>\n",
       "      <th>mean</th>\n",
       "    </tr>\n",
       "    <tr>\n",
       "      <th>genre</th>\n",
       "      <th></th>\n",
       "      <th></th>\n",
       "      <th></th>\n",
       "    </tr>\n",
       "  </thead>\n",
       "  <tbody>\n",
       "    <tr>\n",
       "      <th>Adventure</th>\n",
       "      <td>40.79</td>\n",
       "      <td>410</td>\n",
       "      <td>0.099488</td>\n",
       "    </tr>\n",
       "    <tr>\n",
       "      <th>Puzzle</th>\n",
       "      <td>9.21</td>\n",
       "      <td>71</td>\n",
       "      <td>0.129718</td>\n",
       "    </tr>\n",
       "    <tr>\n",
       "      <th>Strategy</th>\n",
       "      <td>20.28</td>\n",
       "      <td>117</td>\n",
       "      <td>0.173333</td>\n",
       "    </tr>\n",
       "    <tr>\n",
       "      <th>Misc</th>\n",
       "      <td>127.01</td>\n",
       "      <td>375</td>\n",
       "      <td>0.338693</td>\n",
       "    </tr>\n",
       "    <tr>\n",
       "      <th>Simulation</th>\n",
       "      <td>46.73</td>\n",
       "      <td>136</td>\n",
       "      <td>0.343603</td>\n",
       "    </tr>\n",
       "    <tr>\n",
       "      <th>Fighting</th>\n",
       "      <td>60.25</td>\n",
       "      <td>159</td>\n",
       "      <td>0.378931</td>\n",
       "    </tr>\n",
       "    <tr>\n",
       "      <th>Action</th>\n",
       "      <td>493.66</td>\n",
       "      <td>1269</td>\n",
       "      <td>0.389015</td>\n",
       "    </tr>\n",
       "    <tr>\n",
       "      <th>Racing</th>\n",
       "      <td>78.20</td>\n",
       "      <td>180</td>\n",
       "      <td>0.434444</td>\n",
       "    </tr>\n",
       "    <tr>\n",
       "      <th>Role-Playing</th>\n",
       "      <td>225.95</td>\n",
       "      <td>465</td>\n",
       "      <td>0.485914</td>\n",
       "    </tr>\n",
       "    <tr>\n",
       "      <th>Sports</th>\n",
       "      <td>208.27</td>\n",
       "      <td>389</td>\n",
       "      <td>0.535398</td>\n",
       "    </tr>\n",
       "    <tr>\n",
       "      <th>Platform</th>\n",
       "      <td>80.48</td>\n",
       "      <td>122</td>\n",
       "      <td>0.659672</td>\n",
       "    </tr>\n",
       "    <tr>\n",
       "      <th>Shooter</th>\n",
       "      <td>354.37</td>\n",
       "      <td>329</td>\n",
       "      <td>1.077112</td>\n",
       "    </tr>\n",
       "  </tbody>\n",
       "</table>\n",
       "</div>"
      ],
      "text/plain": [
       "              total_sales  name      mean\n",
       "genre                                    \n",
       "Adventure           40.79   410  0.099488\n",
       "Puzzle               9.21    71  0.129718\n",
       "Strategy            20.28   117  0.173333\n",
       "Misc               127.01   375  0.338693\n",
       "Simulation          46.73   136  0.343603\n",
       "Fighting            60.25   159  0.378931\n",
       "Action             493.66  1269  0.389015\n",
       "Racing              78.20   180  0.434444\n",
       "Role-Playing       225.95   465  0.485914\n",
       "Sports             208.27   389  0.535398\n",
       "Platform            80.48   122  0.659672\n",
       "Shooter            354.37   329  1.077112"
      ]
     },
     "execution_count": 74,
     "metadata": {},
     "output_type": "execute_result"
    }
   ],
   "source": [
    "df_genres['mean']=df_genres['total_sales']/df_genres['name']\n",
    "df_genres.sort_values('mean')"
   ]
  },
  {
   "cell_type": "markdown",
   "metadata": {},
   "source": [
    "En promedio, los juegos con mayores ingresos son los shooters, seguidos por los videojuegos de plataforma, y en tercer lugar se encuentran los videojuegos deportes."
   ]
  },
  {
   "cell_type": "markdown",
   "metadata": {},
   "source": [
    "\n",
    "## Perfil de usuario por región"
   ]
  },
  {
   "cell_type": "markdown",
   "metadata": {},
   "source": [
    "### Las cinco principales plataformas para cada región"
   ]
  },
  {
   "cell_type": "code",
   "execution_count": 75,
   "metadata": {},
   "outputs": [
    {
     "name": "stdout",
     "output_type": "stream",
     "text": [
      "platform\n",
      "3DS      82.65\n",
      "XOne     93.12\n",
      "PS4     108.74\n",
      "PS3     168.26\n",
      "X360    226.80\n",
      "Name: na_sales, dtype: float64\n",
      "platform\n",
      "PC       56.70\n",
      "3DS      61.27\n",
      "X360    117.10\n",
      "PS4     141.09\n",
      "PS3     163.10\n",
      "Name: eu_sales, dtype: float64\n",
      "platform\n",
      "PS4     15.96\n",
      "PSV     21.84\n",
      "PSP     24.04\n",
      "PS3     49.39\n",
      "3DS    100.62\n",
      "Name: jp_sales, dtype: float64\n"
     ]
    }
   ],
   "source": [
    "print(df_games_filtered.groupby('platform')['na_sales'].sum().sort_values().tail())\n",
    "print(df_games_filtered.groupby('platform')['eu_sales'].sum().sort_values().tail())\n",
    "print(df_games_filtered.groupby('platform')['jp_sales'].sum().sort_values().tail())"
   ]
  },
  {
   "cell_type": "markdown",
   "metadata": {},
   "source": [
    "En América del Norte, las ventas más altas provienen de la consola Xbox 360, con un total de 226.80 millones de dólares. En Europa, la plataforma líder en ventas es la PS3, con 163.10 millones de dólares. Finalmente, en Japón, la preferida es la Nintendo DS, con 100.62 millones de dólares en ventas. Podemos apreciar que en América del Norte es donde se concentra una mayor cantidad de compradores."
   ]
  },
  {
   "cell_type": "markdown",
   "metadata": {},
   "source": [
    "### Los cinco principales géneros para cada región"
   ]
  },
  {
   "cell_type": "code",
   "execution_count": 76,
   "metadata": {},
   "outputs": [
    {
     "name": "stdout",
     "output_type": "stream",
     "text": [
      "genre\n",
      "Misc             69.69\n",
      "Role-Playing     83.78\n",
      "Sports          108.70\n",
      "Shooter         194.43\n",
      "Action          230.92\n",
      "Name: na_sales, dtype: float64\n",
      "genre\n",
      "Racing           40.58\n",
      "Role-Playing     62.30\n",
      "Sports           88.48\n",
      "Shooter         148.02\n",
      "Action          199.12\n",
      "Name: eu_sales, dtype: float64\n",
      "genre\n",
      "Platform        12.13\n",
      "Fighting        12.38\n",
      "Misc            17.60\n",
      "Action          63.62\n",
      "Role-Playing    79.87\n",
      "Name: jp_sales, dtype: float64\n"
     ]
    }
   ],
   "source": [
    "print(df_games_filtered.groupby('genre')['na_sales'].sum().sort_values().tail())\n",
    "print(df_games_filtered.groupby('genre')['eu_sales'].sum().sort_values().tail())\n",
    "print(df_games_filtered.groupby('genre')['jp_sales'].sum().sort_values().tail())"
   ]
  },
  {
   "cell_type": "markdown",
   "metadata": {},
   "source": [
    "Podemos observar que para las tres regiones, los generos 'Action' y 'Misc' ocupan los primeros lugares dentro de las ventas. De hecho Norteamérica y Europa, comparten los primeros 4 generos, en el mismo orden, siendo el más vendido el genero de Acción, a diferencia de Japón, donde el genero más vendido es 'Role-Playing'."
   ]
  },
  {
   "cell_type": "markdown",
   "metadata": {},
   "source": [
    "### Clasificación de ESRB por región"
   ]
  },
  {
   "cell_type": "code",
   "execution_count": 78,
   "metadata": {},
   "outputs": [
    {
     "name": "stdout",
     "output_type": "stream",
     "text": [
      "rating\n",
      "T       109.31\n",
      "E10+    117.72\n",
      "U       123.69\n",
      "E       170.17\n",
      "M       308.45\n",
      "Name: na_sales, dtype: float64\n",
      "rating\n",
      "E10+     78.00\n",
      "T        83.16\n",
      "U       116.61\n",
      "E       141.73\n",
      "M       250.26\n",
      "Name: eu_sales, dtype: float64\n",
      "rating\n",
      "E10+     11.23\n",
      "M        26.14\n",
      "T        33.39\n",
      "E        36.68\n",
      "U       138.21\n",
      "Name: jp_sales, dtype: float64\n"
     ]
    }
   ],
   "source": [
    "print(df_games_filtered.groupby('rating')['na_sales'].sum().sort_values().tail())\n",
    "print(df_games_filtered.groupby('rating')['eu_sales'].sum().sort_values().tail())\n",
    "print(df_games_filtered.groupby('rating')['jp_sales'].sum().sort_values().tail())"
   ]
  },
  {
   "cell_type": "markdown",
   "metadata": {},
   "source": [
    "En las tres regiones, las cinco clasificaciones principales son las mismas. Europa y Norteamérica comparten el mismo orden para las tres principales clasificaciones: 'M' (maduro +17), 'E' (para todos) y 'U' (desconocido). Sin embargo, en Japón, el orden es un poco distinto, y los videojuegos con más ventas no tienen clasificación."
   ]
  },
  {
   "cell_type": "markdown",
   "metadata": {},
   "source": [
    "<div class=\"alert alert-block alert-success\">\n",
    "<b>Comentario del revisor:</b> <a class=\"tocSkip\"></a>\n",
    "\n",
    "Excelente! Con este análisis por región ayuda a complementar el análisis general anterior y a hacer zoom a los resultados por cada una de las regiones.   \n",
    "\n",
    "</div>"
   ]
  },
  {
   "cell_type": "markdown",
   "metadata": {},
   "source": [
    "## Hipótesis"
   ]
  },
  {
   "cell_type": "markdown",
   "metadata": {},
   "source": [
    "### Las calificaciones promedio de los usuarios para las plataformas Xbox One y PC son las mismas.\n",
    "Para esta hipótesis, tomaremos la premisa original como la hipótesis nula. Comprobaremos cuál es la probabilidad de que no haya ninguna diferencia entre las calificación para estas dos plataformas.  \n",
    "Por lo tanto, la hipótesis alternativa, será:\"Las calificaciones promedio de los usuarios para las plataformas Xbox One y PC son diferentes\"."
   ]
  },
  {
   "cell_type": "code",
   "execution_count": 83,
   "metadata": {},
   "outputs": [
    {
     "name": "stdout",
     "output_type": "stream",
     "text": [
      "varianza 1: 1.2070571428571428\n",
      "varianza 2: 1.8199224489795913\n"
     ]
    }
   ],
   "source": [
    "# extraemos una muestra de 50 elementos de las calificaciones de los usuarios para cada plataforma\n",
    "sample_xone = df_games_filtered[df_games_filtered['platform']=='XOne']['user_score'].sample(n=50)\n",
    "sample_pc = df_games_filtered[df_games_filtered['platform']=='PC']['user_score'].sample(n=50)\n",
    "\n",
    "# comprobamos si las varianzas son aproximadamente iguales\n",
    "print('varianza 1:', sample_xone.var())\n",
    "print('varianza 2:', sample_pc.var())"
   ]
  },
  {
   "cell_type": "code",
   "execution_count": 81,
   "metadata": {},
   "outputs": [
    {
     "name": "stdout",
     "output_type": "stream",
     "text": [
      "valor p:  0.27120295266336075\n",
      "No podemos rechazar la hipótesis nula\n"
     ]
    }
   ],
   "source": [
    "alpha = 0.05  # establecemos el nivel de significancia estadística crítica en 5%\n",
    "\n",
    "results = st.ttest_ind(sample_xone, sample_pc, equal_var = False) # las varianzas son diferentes, asignamos equal_var = False\n",
    "\n",
    "print('valor p: ', results.pvalue) # extraer el valor p\n",
    "\n",
    "if results.pvalue < alpha: # comparar el valor p con el nivel de significancia\n",
    "    print(\"Rechazamos la hipótesis nula\")\n",
    "else:\n",
    "    print(\"No podemos rechazar la hipótesis nula\")"
   ]
  },
  {
   "cell_type": "markdown",
   "metadata": {},
   "source": [
    "Al parecer la posibilidad de que ambas plataformas tengan la misma calificación, es bastante alta, por lo que no podemos rechazar la hipótesis nula."
   ]
  },
  {
   "cell_type": "markdown",
   "metadata": {},
   "source": [
    "### Las calificaciones promedio de los usuarios para los géneros de Acción y Deportes son diferentes."
   ]
  },
  {
   "cell_type": "markdown",
   "metadata": {},
   "source": [
    "Esta hipótesis no se pude comprobar directamente, puesto que se tiene que partir de la igualdad. Por lo cuál se tomará la siguiente premisa comp hipótesis nula:  \n",
    "\"Las calificaciones promedio de los usuarios para los géneros de Acción y Deportes son iguales\"  \n",
    "y la hipótesis alternativa sería la premisa original."
   ]
  },
  {
   "cell_type": "code",
   "execution_count": 88,
   "metadata": {},
   "outputs": [
    {
     "name": "stdout",
     "output_type": "stream",
     "text": [
      "varianza 1: 1.4581877551020408\n",
      "varianza 2: 2.561326530612245\n"
     ]
    }
   ],
   "source": [
    "# extraemos una muestra de 50 elementos de las calificaciones de los usuarios para cada genero\n",
    "sample_action = df_games_filtered[df_games_filtered['genre']=='Action']['user_score'].sample(n=50)\n",
    "sample_sports = df_games_filtered[df_games_filtered['genre']=='Sports']['user_score'].sample(n=50)\n",
    "\n",
    "# comprobamos si las varianzas son aproximadamente iguales\n",
    "print('varianza 1:', sample_action.var())\n",
    "print('varianza 2:', sample_sports.var())"
   ]
  },
  {
   "cell_type": "code",
   "execution_count": 89,
   "metadata": {},
   "outputs": [
    {
     "name": "stdout",
     "output_type": "stream",
     "text": [
      "valor p:  0.025039233743411955\n",
      "Rechazamos la hipótesis nula\n"
     ]
    }
   ],
   "source": [
    "alpha = 0.05  # establecemos el nivel de significancia estadística crítica en 5%\n",
    "\n",
    "results = st.ttest_ind(sample_action, sample_sports, equal_var = False) # las varianzas son diferentes, asignamos equal_var = False\n",
    "print('valor p: ', results.pvalue) # extraer el valor p\n",
    "\n",
    "if results.pvalue < alpha: # comparar el valor p con el nivel de significancia\n",
    "    print(\"Rechazamos la hipótesis nula\")\n",
    "else:\n",
    "    print(\"No podemos rechazar la hipótesis nula\")"
   ]
  },
  {
   "cell_type": "markdown",
   "metadata": {},
   "source": [
    "El valor p, que determina la probabilidad de que ambos generos tengan la misma calificación promedio por parte de  los usarios, es más bajo que el nivel de significancia establecido. Por esta razón, rechazamos la hipótesis núla y podemos decir que es probable que las calificaciones promedio de los dos géneros sean diferente."
   ]
  },
  {
   "cell_type": "markdown",
   "metadata": {},
   "source": [
    "## Conclusión\n",
    "\n",
    "En este proyecto se obtuvieron diferentes estadisticas para determinar cuál podría ser una campaña prometedora para el año siguiente.  \n",
    "Inicialmente, se análizo en número de lanzamientos anuales, esto nos ayudo a definir un periodo en el que obtendríamos resultados más relevantes, ignorando los años anteriores en los que el número de lanzamientos era menor.  \n",
    "Posteriormente, analizamos el comportamiento de diferentes plataformas atravez de los años, para ver cuál es en promedio el tiempo de vida de una plataforma en el mercado.\n",
    "También, se creó un diagrama de caja, para ver la diferencia de las ventas en distintas plataformas.   Vimos cuál era la relación entre las reseñas y las ventas mediante diagramas de dispersión y como varían la ventas en distintas plataformas de determinados videojuegos.  \n",
    "Obtuvimos una lista de los generos ordenada por popularidad.  \n",
    "Asi mismo, se realizo un estudio por cada región para determinar cuales eran las principales plataformas, los principales generos y la clasificación de videojuegos con más ventas.  \n",
    "Finalmente realizamos la prueba de dos hipotesis para determinar si dos plataformas y dos generos, tenían en promedio la misma calificación por parte de los usarios.  \n",
    "Con respecto a los resulados obtenidos, podemos decir que un posible plan de negocio sería impulsar aquellas plataformas que recien ingresan al mercado, como pueden ser la PS4 y la Xbox One, así como aquellas plataformas más longebas, como la PC que se ha mantenido a pesar de los años. Esto con el objetivo de tener ventas a más largo plazo. Sin embargo debido a que muchos de los usarios ya cuentan con consolas de modelos anteriores, como el PS3, se podrían lanzar juegos multiplataforma que se puedan juegar en distinas versiones de la misma plataforma.  \n",
    "Por otro lado si bien la puntuación de la crítica y de los usuarios tiene una influencia positiva, esto no determina inminentemente la cantidad de ventas de un videojuego. Además con respecto a los generos y las plataformas análizadas, no se obtuvo una diferencia contundente. \n",
    "También hay que resaltar, que uno de los generos en los cuales no hay tanta variedad de videjuegos y es uno de los más rentables, es el de Shooters, por lo que se podría pensar en invertir más en el desarrollo de videjuegos de este genero.\n",
    "Por ultimo, los generos y las clasificaciones preferidas por usuarios de diferentes regiones, y en las que se debería poner más atención, son los videojuegos de acción y la E ('para todo publico')."
   ]
  },
  {
   "cell_type": "markdown",
   "metadata": {},
   "source": [
    "<div class=\"alert alert-block alert-success\">\n",
    "<b>Comentario del revisor</b> <a class=\"tocSkip\"></a>\n",
    "\n",
    "Muy buen trabajo con los ajustes! Que sigas disfrutando los siguientes cursos!\n",
    "</div>"
   ]
  },
  {
   "cell_type": "code",
   "execution_count": null,
   "metadata": {},
   "outputs": [],
   "source": []
  }
 ],
 "metadata": {
  "ExecuteTimeLog": [
   {
    "duration": 4896,
    "start_time": "2024-07-02T17:49:41.010Z"
   },
   {
    "duration": 8,
    "start_time": "2024-07-02T17:51:11.976Z"
   },
   {
    "duration": 56,
    "start_time": "2024-07-02T17:51:33.219Z"
   },
   {
    "duration": 34,
    "start_time": "2024-07-02T17:53:02.735Z"
   },
   {
    "duration": 6,
    "start_time": "2024-07-02T17:59:15.560Z"
   },
   {
    "duration": 490,
    "start_time": "2024-07-02T17:59:20.401Z"
   },
   {
    "duration": 6,
    "start_time": "2024-07-02T17:59:25.970Z"
   },
   {
    "duration": 23,
    "start_time": "2024-07-02T17:59:44.025Z"
   },
   {
    "duration": 5,
    "start_time": "2024-07-02T18:02:34.012Z"
   },
   {
    "duration": 28,
    "start_time": "2024-07-02T18:02:44.126Z"
   },
   {
    "duration": 19,
    "start_time": "2024-07-02T18:03:02.396Z"
   },
   {
    "duration": 20,
    "start_time": "2024-07-02T18:05:12.851Z"
   },
   {
    "duration": 19,
    "start_time": "2024-07-02T18:06:38.922Z"
   },
   {
    "duration": 4,
    "start_time": "2024-07-02T18:18:30.965Z"
   },
   {
    "duration": 3,
    "start_time": "2024-07-02T18:24:09.171Z"
   },
   {
    "duration": 1441,
    "start_time": "2024-07-02T22:08:32.610Z"
   },
   {
    "duration": 54,
    "start_time": "2024-07-02T22:08:34.054Z"
   },
   {
    "duration": 32,
    "start_time": "2024-07-02T22:08:34.111Z"
   },
   {
    "duration": 27,
    "start_time": "2024-07-02T22:08:34.146Z"
   },
   {
    "duration": 21,
    "start_time": "2024-07-02T22:08:34.179Z"
   },
   {
    "duration": 569,
    "start_time": "2024-07-02T22:08:34.203Z"
   },
   {
    "duration": 1387,
    "start_time": "2024-07-02T22:08:59.815Z"
   },
   {
    "duration": 26,
    "start_time": "2024-07-02T22:14:01.561Z"
   },
   {
    "duration": 43,
    "start_time": "2024-07-02T22:15:28.302Z"
   },
   {
    "duration": 18,
    "start_time": "2024-07-02T22:15:57.347Z"
   },
   {
    "duration": 17,
    "start_time": "2024-07-02T22:36:02.124Z"
   },
   {
    "duration": 22,
    "start_time": "2024-07-02T22:40:33.726Z"
   },
   {
    "duration": 13,
    "start_time": "2024-07-02T22:40:42.183Z"
   },
   {
    "duration": 39,
    "start_time": "2024-07-02T22:40:52.075Z"
   },
   {
    "duration": 20,
    "start_time": "2024-07-02T22:42:09.094Z"
   },
   {
    "duration": 41,
    "start_time": "2024-07-02T22:42:18.712Z"
   },
   {
    "duration": 22,
    "start_time": "2024-07-02T22:42:24.782Z"
   },
   {
    "duration": 7,
    "start_time": "2024-07-02T22:54:42.004Z"
   },
   {
    "duration": 12,
    "start_time": "2024-07-02T22:56:21.835Z"
   },
   {
    "duration": 12,
    "start_time": "2024-07-02T22:56:33.387Z"
   },
   {
    "duration": 1620,
    "start_time": "2024-07-02T22:58:19.318Z"
   },
   {
    "duration": 58,
    "start_time": "2024-07-02T22:58:20.946Z"
   },
   {
    "duration": 30,
    "start_time": "2024-07-02T22:58:21.007Z"
   },
   {
    "duration": 21,
    "start_time": "2024-07-02T22:58:21.041Z"
   },
   {
    "duration": 20,
    "start_time": "2024-07-02T22:58:21.066Z"
   },
   {
    "duration": 18,
    "start_time": "2024-07-02T22:58:21.089Z"
   },
   {
    "duration": 20,
    "start_time": "2024-07-02T22:58:21.134Z"
   },
   {
    "duration": 11,
    "start_time": "2024-07-02T22:58:21.156Z"
   },
   {
    "duration": 22,
    "start_time": "2024-07-02T22:58:21.176Z"
   },
   {
    "duration": 9,
    "start_time": "2024-07-02T22:58:21.200Z"
   },
   {
    "duration": 15,
    "start_time": "2024-07-02T22:58:21.231Z"
   },
   {
    "duration": 34,
    "start_time": "2024-07-02T22:59:37.823Z"
   },
   {
    "duration": 19,
    "start_time": "2024-07-02T23:00:01.560Z"
   },
   {
    "duration": 48,
    "start_time": "2024-07-02T23:04:03.055Z"
   },
   {
    "duration": 27,
    "start_time": "2024-07-02T23:04:23.987Z"
   },
   {
    "duration": 51,
    "start_time": "2024-07-02T23:04:32.038Z"
   },
   {
    "duration": 10,
    "start_time": "2024-07-02T23:12:04.311Z"
   },
   {
    "duration": 20,
    "start_time": "2024-07-02T23:12:10.953Z"
   },
   {
    "duration": 24,
    "start_time": "2024-07-02T23:12:50.387Z"
   },
   {
    "duration": 1691,
    "start_time": "2024-07-02T23:13:08.130Z"
   },
   {
    "duration": 11,
    "start_time": "2024-07-02T23:23:35.954Z"
   },
   {
    "duration": 114,
    "start_time": "2024-07-02T23:23:39.082Z"
   },
   {
    "duration": 10,
    "start_time": "2024-07-02T23:24:03.972Z"
   },
   {
    "duration": 17,
    "start_time": "2024-07-02T23:25:31.658Z"
   },
   {
    "duration": 16,
    "start_time": "2024-07-02T23:26:05.689Z"
   },
   {
    "duration": 36,
    "start_time": "2024-07-02T23:26:21.815Z"
   },
   {
    "duration": 16,
    "start_time": "2024-07-02T23:27:58.390Z"
   },
   {
    "duration": 15,
    "start_time": "2024-07-02T23:28:47.251Z"
   },
   {
    "duration": 19,
    "start_time": "2024-07-02T23:28:56.316Z"
   },
   {
    "duration": 10,
    "start_time": "2024-07-02T23:29:10.500Z"
   },
   {
    "duration": 166,
    "start_time": "2024-07-02T23:29:26.779Z"
   },
   {
    "duration": 8,
    "start_time": "2024-07-02T23:29:48.891Z"
   },
   {
    "duration": 16,
    "start_time": "2024-07-02T23:30:18.306Z"
   },
   {
    "duration": 19,
    "start_time": "2024-07-02T23:30:35.989Z"
   },
   {
    "duration": 17,
    "start_time": "2024-07-02T23:30:50.348Z"
   },
   {
    "duration": 22,
    "start_time": "2024-07-02T23:31:00.704Z"
   },
   {
    "duration": 9,
    "start_time": "2024-07-02T23:31:11.556Z"
   },
   {
    "duration": 17,
    "start_time": "2024-07-02T23:48:05.184Z"
   },
   {
    "duration": 18,
    "start_time": "2024-07-03T00:01:59.753Z"
   },
   {
    "duration": 5,
    "start_time": "2024-07-03T00:02:15.404Z"
   },
   {
    "duration": 5,
    "start_time": "2024-07-03T00:09:52.215Z"
   },
   {
    "duration": 8,
    "start_time": "2024-07-03T00:10:38.008Z"
   },
   {
    "duration": 18,
    "start_time": "2024-07-03T00:10:51.174Z"
   },
   {
    "duration": 22,
    "start_time": "2024-07-03T00:11:17.013Z"
   },
   {
    "duration": 4945,
    "start_time": "2024-07-03T16:55:51.599Z"
   },
   {
    "duration": 60,
    "start_time": "2024-07-03T16:55:56.547Z"
   },
   {
    "duration": 26,
    "start_time": "2024-07-03T16:55:56.610Z"
   },
   {
    "duration": 20,
    "start_time": "2024-07-03T16:55:56.640Z"
   },
   {
    "duration": 55,
    "start_time": "2024-07-03T16:55:56.663Z"
   },
   {
    "duration": 19,
    "start_time": "2024-07-03T16:55:56.724Z"
   },
   {
    "duration": 19,
    "start_time": "2024-07-03T16:55:56.746Z"
   },
   {
    "duration": 45,
    "start_time": "2024-07-03T16:55:56.768Z"
   },
   {
    "duration": 27,
    "start_time": "2024-07-03T16:55:56.816Z"
   },
   {
    "duration": 5,
    "start_time": "2024-07-03T16:55:56.851Z"
   },
   {
    "duration": 9,
    "start_time": "2024-07-03T16:55:56.859Z"
   },
   {
    "duration": 7,
    "start_time": "2024-07-03T16:55:56.905Z"
   },
   {
    "duration": 5,
    "start_time": "2024-07-03T16:55:56.916Z"
   },
   {
    "duration": 10,
    "start_time": "2024-07-03T16:55:56.924Z"
   },
   {
    "duration": 18,
    "start_time": "2024-07-03T16:55:56.936Z"
   },
   {
    "duration": 7,
    "start_time": "2024-07-03T16:57:35.114Z"
   },
   {
    "duration": 9,
    "start_time": "2024-07-03T17:00:42.272Z"
   },
   {
    "duration": 33,
    "start_time": "2024-07-03T17:07:01.432Z"
   },
   {
    "duration": 10,
    "start_time": "2024-07-03T17:07:41.763Z"
   },
   {
    "duration": 1293,
    "start_time": "2024-07-03T17:09:13.304Z"
   },
   {
    "duration": 40,
    "start_time": "2024-07-03T17:09:14.602Z"
   },
   {
    "duration": 24,
    "start_time": "2024-07-03T17:09:14.644Z"
   },
   {
    "duration": 43,
    "start_time": "2024-07-03T17:09:14.671Z"
   },
   {
    "duration": 19,
    "start_time": "2024-07-03T17:09:14.720Z"
   },
   {
    "duration": 19,
    "start_time": "2024-07-03T17:09:14.742Z"
   },
   {
    "duration": 53,
    "start_time": "2024-07-03T17:09:14.764Z"
   },
   {
    "duration": 11,
    "start_time": "2024-07-03T17:09:14.820Z"
   },
   {
    "duration": 21,
    "start_time": "2024-07-03T17:09:14.834Z"
   },
   {
    "duration": 44,
    "start_time": "2024-07-03T17:09:14.858Z"
   },
   {
    "duration": 11,
    "start_time": "2024-07-03T17:09:14.904Z"
   },
   {
    "duration": 6,
    "start_time": "2024-07-03T17:09:14.918Z"
   },
   {
    "duration": 6,
    "start_time": "2024-07-03T17:09:14.927Z"
   },
   {
    "duration": 8,
    "start_time": "2024-07-03T17:09:14.938Z"
   },
   {
    "duration": 65,
    "start_time": "2024-07-03T17:09:14.949Z"
   },
   {
    "duration": 10,
    "start_time": "2024-07-03T17:09:15.017Z"
   },
   {
    "duration": 9,
    "start_time": "2024-07-03T17:09:15.030Z"
   },
   {
    "duration": 19,
    "start_time": "2024-07-03T17:09:56.936Z"
   },
   {
    "duration": 14,
    "start_time": "2024-07-03T17:10:07.313Z"
   },
   {
    "duration": 507,
    "start_time": "2024-07-03T17:11:42.306Z"
   },
   {
    "duration": 464,
    "start_time": "2024-07-03T17:12:19.301Z"
   },
   {
    "duration": 492,
    "start_time": "2024-07-03T17:13:15.005Z"
   },
   {
    "duration": 201,
    "start_time": "2024-07-03T17:14:12.950Z"
   },
   {
    "duration": 27,
    "start_time": "2024-07-03T17:14:18.859Z"
   },
   {
    "duration": 470,
    "start_time": "2024-07-03T17:14:27.467Z"
   },
   {
    "duration": 462,
    "start_time": "2024-07-03T17:18:34.501Z"
   },
   {
    "duration": 455,
    "start_time": "2024-07-03T17:19:29.505Z"
   },
   {
    "duration": 824,
    "start_time": "2024-07-03T17:19:46.513Z"
   },
   {
    "duration": 446,
    "start_time": "2024-07-03T17:20:01.308Z"
   },
   {
    "duration": 10,
    "start_time": "2024-07-03T17:41:07.159Z"
   },
   {
    "duration": 9,
    "start_time": "2024-07-03T17:45:46.049Z"
   },
   {
    "duration": 14,
    "start_time": "2024-07-03T17:51:56.451Z"
   },
   {
    "duration": 15,
    "start_time": "2024-07-03T17:53:40.384Z"
   },
   {
    "duration": 12,
    "start_time": "2024-07-03T17:53:57.337Z"
   },
   {
    "duration": 7,
    "start_time": "2024-07-03T17:57:35.388Z"
   },
   {
    "duration": 4,
    "start_time": "2024-07-03T17:57:45.590Z"
   },
   {
    "duration": 247,
    "start_time": "2024-07-03T18:01:29.684Z"
   },
   {
    "duration": 26,
    "start_time": "2024-07-03T18:01:51.064Z"
   },
   {
    "duration": 26,
    "start_time": "2024-07-03T18:01:58.523Z"
   },
   {
    "duration": 4,
    "start_time": "2024-07-03T18:02:03.051Z"
   },
   {
    "duration": 5,
    "start_time": "2024-07-03T18:02:19.602Z"
   },
   {
    "duration": 5,
    "start_time": "2024-07-03T18:05:20.394Z"
   },
   {
    "duration": 29,
    "start_time": "2024-07-03T18:05:46.378Z"
   },
   {
    "duration": 6,
    "start_time": "2024-07-03T18:10:23.092Z"
   },
   {
    "duration": 5,
    "start_time": "2024-07-03T18:12:11.682Z"
   },
   {
    "duration": 284,
    "start_time": "2024-07-03T18:12:19.884Z"
   },
   {
    "duration": 6,
    "start_time": "2024-07-03T18:13:07.580Z"
   },
   {
    "duration": 87,
    "start_time": "2024-07-03T18:13:13.600Z"
   },
   {
    "duration": 711,
    "start_time": "2024-07-03T18:16:52.683Z"
   },
   {
    "duration": 107,
    "start_time": "2024-07-03T18:17:38.302Z"
   },
   {
    "duration": 104,
    "start_time": "2024-07-03T18:17:51.105Z"
   },
   {
    "duration": 99,
    "start_time": "2024-07-03T18:18:02.161Z"
   },
   {
    "duration": 5,
    "start_time": "2024-07-03T18:18:39.684Z"
   },
   {
    "duration": 6,
    "start_time": "2024-07-03T18:18:57.744Z"
   },
   {
    "duration": 10,
    "start_time": "2024-07-03T18:20:22.026Z"
   },
   {
    "duration": 26,
    "start_time": "2024-07-03T18:20:24.457Z"
   },
   {
    "duration": 6,
    "start_time": "2024-07-03T18:20:35.778Z"
   },
   {
    "duration": 7,
    "start_time": "2024-07-03T18:21:11.971Z"
   },
   {
    "duration": 5,
    "start_time": "2024-07-03T18:21:14.924Z"
   },
   {
    "duration": 6,
    "start_time": "2024-07-03T18:22:12.716Z"
   },
   {
    "duration": 5,
    "start_time": "2024-07-03T18:22:20.675Z"
   },
   {
    "duration": 5,
    "start_time": "2024-07-03T18:22:33.058Z"
   },
   {
    "duration": 5,
    "start_time": "2024-07-03T18:23:17.850Z"
   },
   {
    "duration": 369,
    "start_time": "2024-07-03T20:02:40.126Z"
   },
   {
    "duration": 5506,
    "start_time": "2024-07-03T20:03:03.510Z"
   },
   {
    "duration": 56,
    "start_time": "2024-07-03T20:03:09.030Z"
   },
   {
    "duration": 47,
    "start_time": "2024-07-03T20:03:09.089Z"
   },
   {
    "duration": 20,
    "start_time": "2024-07-03T20:03:09.139Z"
   },
   {
    "duration": 23,
    "start_time": "2024-07-03T20:03:09.164Z"
   },
   {
    "duration": 40,
    "start_time": "2024-07-03T20:03:09.191Z"
   },
   {
    "duration": 23,
    "start_time": "2024-07-03T20:03:09.235Z"
   },
   {
    "duration": 15,
    "start_time": "2024-07-03T20:03:09.261Z"
   },
   {
    "duration": 39,
    "start_time": "2024-07-03T20:03:09.307Z"
   },
   {
    "duration": 5,
    "start_time": "2024-07-03T20:03:09.350Z"
   },
   {
    "duration": 8,
    "start_time": "2024-07-03T20:03:09.359Z"
   },
   {
    "duration": 11,
    "start_time": "2024-07-03T20:03:09.371Z"
   },
   {
    "duration": 6,
    "start_time": "2024-07-03T20:03:09.406Z"
   },
   {
    "duration": 11,
    "start_time": "2024-07-03T20:03:09.429Z"
   },
   {
    "duration": 18,
    "start_time": "2024-07-03T20:03:09.443Z"
   },
   {
    "duration": 9,
    "start_time": "2024-07-03T20:03:09.463Z"
   },
   {
    "duration": 63,
    "start_time": "2024-07-03T20:03:09.474Z"
   },
   {
    "duration": 543,
    "start_time": "2024-07-03T20:03:09.542Z"
   },
   {
    "duration": 24,
    "start_time": "2024-07-03T20:03:10.090Z"
   },
   {
    "duration": 6,
    "start_time": "2024-07-03T20:03:10.121Z"
   },
   {
    "duration": 1262,
    "start_time": "2024-07-03T20:03:10.129Z"
   },
   {
    "duration": 22,
    "start_time": "2024-07-03T20:03:47.014Z"
   },
   {
    "duration": 12,
    "start_time": "2024-07-03T20:04:10.476Z"
   },
   {
    "duration": 49,
    "start_time": "2024-07-03T20:04:52.082Z"
   },
   {
    "duration": 12,
    "start_time": "2024-07-03T20:05:01.316Z"
   },
   {
    "duration": 12,
    "start_time": "2024-07-03T20:05:07.715Z"
   },
   {
    "duration": 17,
    "start_time": "2024-07-03T20:05:12.763Z"
   },
   {
    "duration": 1131,
    "start_time": "2024-07-03T20:08:09.464Z"
   },
   {
    "duration": 130,
    "start_time": "2024-07-03T20:08:35.553Z"
   },
   {
    "duration": 131,
    "start_time": "2024-07-03T20:09:28.994Z"
   },
   {
    "duration": 15,
    "start_time": "2024-07-03T20:09:35.487Z"
   },
   {
    "duration": 85,
    "start_time": "2024-07-03T20:10:07.215Z"
   },
   {
    "duration": 83,
    "start_time": "2024-07-03T20:10:43.183Z"
   },
   {
    "duration": 87,
    "start_time": "2024-07-03T20:11:03.047Z"
   },
   {
    "duration": 84,
    "start_time": "2024-07-03T20:11:14.142Z"
   },
   {
    "duration": 13,
    "start_time": "2024-07-03T20:12:16.151Z"
   },
   {
    "duration": 30,
    "start_time": "2024-07-03T20:13:09.388Z"
   },
   {
    "duration": 1260,
    "start_time": "2024-07-03T20:14:21.065Z"
   },
   {
    "duration": 38,
    "start_time": "2024-07-03T20:14:22.329Z"
   },
   {
    "duration": 39,
    "start_time": "2024-07-03T20:14:22.370Z"
   },
   {
    "duration": 20,
    "start_time": "2024-07-03T20:14:22.412Z"
   },
   {
    "duration": 18,
    "start_time": "2024-07-03T20:14:22.437Z"
   },
   {
    "duration": 52,
    "start_time": "2024-07-03T20:14:22.458Z"
   },
   {
    "duration": 19,
    "start_time": "2024-07-03T20:14:22.513Z"
   },
   {
    "duration": 11,
    "start_time": "2024-07-03T20:14:22.535Z"
   },
   {
    "duration": 54,
    "start_time": "2024-07-03T20:14:22.549Z"
   },
   {
    "duration": 5,
    "start_time": "2024-07-03T20:14:22.607Z"
   },
   {
    "duration": 9,
    "start_time": "2024-07-03T20:14:22.616Z"
   },
   {
    "duration": 6,
    "start_time": "2024-07-03T20:14:22.629Z"
   },
   {
    "duration": 7,
    "start_time": "2024-07-03T20:14:22.638Z"
   },
   {
    "duration": 57,
    "start_time": "2024-07-03T20:14:22.652Z"
   },
   {
    "duration": 20,
    "start_time": "2024-07-03T20:14:22.713Z"
   },
   {
    "duration": 9,
    "start_time": "2024-07-03T20:14:22.737Z"
   },
   {
    "duration": 57,
    "start_time": "2024-07-03T20:14:22.749Z"
   },
   {
    "duration": 471,
    "start_time": "2024-07-03T20:14:22.809Z"
   },
   {
    "duration": 22,
    "start_time": "2024-07-03T20:14:23.283Z"
   },
   {
    "duration": 6,
    "start_time": "2024-07-03T20:14:23.308Z"
   },
   {
    "duration": 286,
    "start_time": "2024-07-03T20:14:23.317Z"
   },
   {
    "duration": 15,
    "start_time": "2024-07-03T20:14:32.329Z"
   },
   {
    "duration": 27,
    "start_time": "2024-07-03T20:15:47.359Z"
   },
   {
    "duration": 21,
    "start_time": "2024-07-03T20:15:59.847Z"
   },
   {
    "duration": 7,
    "start_time": "2024-07-03T20:17:04.329Z"
   },
   {
    "duration": 5,
    "start_time": "2024-07-03T20:17:37.050Z"
   },
   {
    "duration": 22,
    "start_time": "2024-07-03T20:17:45.527Z"
   },
   {
    "duration": 10,
    "start_time": "2024-07-03T20:20:49.695Z"
   },
   {
    "duration": 240,
    "start_time": "2024-07-03T20:21:19.010Z"
   },
   {
    "duration": 16,
    "start_time": "2024-07-03T20:21:33.563Z"
   },
   {
    "duration": 403,
    "start_time": "2024-07-03T20:23:09.513Z"
   },
   {
    "duration": 6495,
    "start_time": "2024-07-03T20:23:29.905Z"
   },
   {
    "duration": 5,
    "start_time": "2024-07-03T20:27:09.500Z"
   },
   {
    "duration": 2252,
    "start_time": "2024-07-03T20:27:11.308Z"
   },
   {
    "duration": 2606,
    "start_time": "2024-07-03T20:29:19.299Z"
   },
   {
    "duration": 5,
    "start_time": "2024-07-03T20:31:20.312Z"
   },
   {
    "duration": 1875,
    "start_time": "2024-07-03T20:31:25.113Z"
   },
   {
    "duration": 568,
    "start_time": "2024-07-03T20:32:39.872Z"
   },
   {
    "duration": 1765,
    "start_time": "2024-07-03T20:34:09.316Z"
   },
   {
    "duration": 370,
    "start_time": "2024-07-03T20:36:28.033Z"
   },
   {
    "duration": 368,
    "start_time": "2024-07-03T20:38:58.084Z"
   },
   {
    "duration": 958,
    "start_time": "2024-07-03T20:39:05.230Z"
   },
   {
    "duration": 1776,
    "start_time": "2024-07-03T20:39:28.659Z"
   },
   {
    "duration": 2243,
    "start_time": "2024-07-03T20:40:41.367Z"
   },
   {
    "duration": 1001,
    "start_time": "2024-07-03T20:40:50.710Z"
   },
   {
    "duration": 5,
    "start_time": "2024-07-03T20:42:20.744Z"
   },
   {
    "duration": 2410,
    "start_time": "2024-07-03T20:42:22.263Z"
   },
   {
    "duration": 5,
    "start_time": "2024-07-03T20:42:48.974Z"
   },
   {
    "duration": 1186,
    "start_time": "2024-07-03T20:42:51.557Z"
   },
   {
    "duration": 1184,
    "start_time": "2024-07-03T20:43:40.997Z"
   },
   {
    "duration": 9,
    "start_time": "2024-07-03T20:48:41.358Z"
   },
   {
    "duration": 11,
    "start_time": "2024-07-03T20:49:04.733Z"
   },
   {
    "duration": 332,
    "start_time": "2024-07-04T20:21:05.128Z"
   },
   {
    "duration": 4917,
    "start_time": "2024-07-04T20:21:20.968Z"
   },
   {
    "duration": 67,
    "start_time": "2024-07-04T20:21:25.889Z"
   },
   {
    "duration": 24,
    "start_time": "2024-07-04T20:21:25.960Z"
   },
   {
    "duration": 43,
    "start_time": "2024-07-04T20:21:25.988Z"
   },
   {
    "duration": 20,
    "start_time": "2024-07-04T20:21:26.035Z"
   },
   {
    "duration": 18,
    "start_time": "2024-07-04T20:21:26.058Z"
   },
   {
    "duration": 51,
    "start_time": "2024-07-04T20:21:26.079Z"
   },
   {
    "duration": 12,
    "start_time": "2024-07-04T20:21:26.133Z"
   },
   {
    "duration": 19,
    "start_time": "2024-07-04T20:21:26.148Z"
   },
   {
    "duration": 5,
    "start_time": "2024-07-04T20:21:26.172Z"
   },
   {
    "duration": 8,
    "start_time": "2024-07-04T20:21:26.180Z"
   },
   {
    "duration": 45,
    "start_time": "2024-07-04T20:21:26.190Z"
   },
   {
    "duration": 9,
    "start_time": "2024-07-04T20:21:26.238Z"
   },
   {
    "duration": 10,
    "start_time": "2024-07-04T20:21:26.251Z"
   },
   {
    "duration": 18,
    "start_time": "2024-07-04T20:21:26.264Z"
   },
   {
    "duration": 54,
    "start_time": "2024-07-04T20:21:26.285Z"
   },
   {
    "duration": 22,
    "start_time": "2024-07-04T20:21:26.343Z"
   },
   {
    "duration": 501,
    "start_time": "2024-07-04T20:21:26.369Z"
   },
   {
    "duration": 10,
    "start_time": "2024-07-04T20:21:26.873Z"
   },
   {
    "duration": 5,
    "start_time": "2024-07-04T20:21:26.887Z"
   },
   {
    "duration": 877,
    "start_time": "2024-07-04T20:21:26.895Z"
   },
   {
    "duration": 0,
    "start_time": "2024-07-04T20:21:27.775Z"
   },
   {
    "duration": 2946,
    "start_time": "2024-07-04T20:22:04.461Z"
   },
   {
    "duration": 78,
    "start_time": "2024-07-04T20:22:28.688Z"
   },
   {
    "duration": 2872,
    "start_time": "2024-07-04T20:22:37.995Z"
   },
   {
    "duration": 194,
    "start_time": "2024-07-04T20:23:04.591Z"
   },
   {
    "duration": 90,
    "start_time": "2024-07-04T20:23:15.274Z"
   },
   {
    "duration": 14,
    "start_time": "2024-07-04T20:23:20.711Z"
   },
   {
    "duration": 16,
    "start_time": "2024-07-04T20:24:29.512Z"
   },
   {
    "duration": 16,
    "start_time": "2024-07-04T20:24:38.640Z"
   },
   {
    "duration": 13,
    "start_time": "2024-07-04T20:24:43.520Z"
   },
   {
    "duration": 351,
    "start_time": "2024-07-04T20:24:51.937Z"
   },
   {
    "duration": 13,
    "start_time": "2024-07-04T20:25:00.445Z"
   },
   {
    "duration": 16,
    "start_time": "2024-07-04T20:25:04.943Z"
   },
   {
    "duration": 20,
    "start_time": "2024-07-04T20:26:13.103Z"
   },
   {
    "duration": 23,
    "start_time": "2024-07-04T20:27:19.719Z"
   },
   {
    "duration": 4,
    "start_time": "2024-07-04T20:27:27.164Z"
   },
   {
    "duration": 23,
    "start_time": "2024-07-04T20:27:29.635Z"
   },
   {
    "duration": 34,
    "start_time": "2024-07-04T20:28:30.346Z"
   },
   {
    "duration": 16,
    "start_time": "2024-07-04T20:29:05.531Z"
   },
   {
    "duration": 5210,
    "start_time": "2024-07-04T20:29:13.697Z"
   },
   {
    "duration": 2453,
    "start_time": "2024-07-04T20:30:07.328Z"
   },
   {
    "duration": 1895,
    "start_time": "2024-07-04T20:30:29.184Z"
   },
   {
    "duration": 576,
    "start_time": "2024-07-04T20:33:41.633Z"
   },
   {
    "duration": 332,
    "start_time": "2024-07-04T20:33:53.458Z"
   },
   {
    "duration": 1511,
    "start_time": "2024-07-04T20:34:04.812Z"
   },
   {
    "duration": 1522,
    "start_time": "2024-07-04T20:36:10.578Z"
   },
   {
    "duration": 1473,
    "start_time": "2024-07-04T20:37:09.108Z"
   },
   {
    "duration": 1890,
    "start_time": "2024-07-04T20:37:27.445Z"
   },
   {
    "duration": 941,
    "start_time": "2024-07-04T20:39:59.954Z"
   },
   {
    "duration": 381,
    "start_time": "2024-07-04T20:41:47.171Z"
   },
   {
    "duration": 1479,
    "start_time": "2024-07-04T20:41:54.932Z"
   },
   {
    "duration": 23,
    "start_time": "2024-07-04T20:45:41.077Z"
   },
   {
    "duration": 24,
    "start_time": "2024-07-04T20:46:09.852Z"
   },
   {
    "duration": 5375,
    "start_time": "2024-07-04T20:47:51.689Z"
   },
   {
    "duration": 4322,
    "start_time": "2024-07-04T20:48:11.257Z"
   },
   {
    "duration": 24,
    "start_time": "2024-07-04T20:50:49.047Z"
   },
   {
    "duration": 37,
    "start_time": "2024-07-04T20:51:00.548Z"
   },
   {
    "duration": 2160,
    "start_time": "2024-07-04T20:52:04.587Z"
   },
   {
    "duration": 595,
    "start_time": "2024-07-04T20:54:35.174Z"
   },
   {
    "duration": 4323,
    "start_time": "2024-07-04T20:54:40.358Z"
   },
   {
    "duration": 2082,
    "start_time": "2024-07-04T20:55:05.992Z"
   },
   {
    "duration": 1847,
    "start_time": "2024-07-04T20:55:17.302Z"
   },
   {
    "duration": 2169,
    "start_time": "2024-07-04T20:55:37.709Z"
   },
   {
    "duration": 13,
    "start_time": "2024-07-04T20:58:15.984Z"
   },
   {
    "duration": 10,
    "start_time": "2024-07-04T21:00:09.047Z"
   },
   {
    "duration": 14,
    "start_time": "2024-07-04T21:02:07.866Z"
   },
   {
    "duration": 5,
    "start_time": "2024-07-04T21:05:17.140Z"
   },
   {
    "duration": 4241,
    "start_time": "2024-07-04T21:05:23.564Z"
   },
   {
    "duration": 12,
    "start_time": "2024-07-04T21:07:02.346Z"
   },
   {
    "duration": 12,
    "start_time": "2024-07-04T21:07:26.724Z"
   },
   {
    "duration": 13,
    "start_time": "2024-07-04T21:08:14.809Z"
   },
   {
    "duration": 5,
    "start_time": "2024-07-04T21:08:26.279Z"
   },
   {
    "duration": 4755,
    "start_time": "2024-07-04T21:09:53.670Z"
   },
   {
    "duration": 1860,
    "start_time": "2024-07-04T21:13:45.783Z"
   },
   {
    "duration": 13,
    "start_time": "2024-07-04T21:14:31.549Z"
   },
   {
    "duration": 6,
    "start_time": "2024-07-04T21:15:57.547Z"
   },
   {
    "duration": 3367,
    "start_time": "2024-07-04T21:16:16.851Z"
   },
   {
    "duration": 1504,
    "start_time": "2024-07-04T21:16:23.258Z"
   },
   {
    "duration": 1361,
    "start_time": "2024-07-04T21:20:03.564Z"
   },
   {
    "duration": 1264,
    "start_time": "2024-07-04T21:20:18.173Z"
   },
   {
    "duration": 16,
    "start_time": "2024-07-04T21:21:22.722Z"
   },
   {
    "duration": 12,
    "start_time": "2024-07-04T21:21:46.844Z"
   },
   {
    "duration": 5,
    "start_time": "2024-07-04T21:21:53.634Z"
   },
   {
    "duration": 1991,
    "start_time": "2024-07-04T21:21:56.354Z"
   },
   {
    "duration": 1385,
    "start_time": "2024-07-04T21:22:00.969Z"
   },
   {
    "duration": 12,
    "start_time": "2024-07-04T21:22:35.916Z"
   },
   {
    "duration": 13,
    "start_time": "2024-07-04T21:22:42.607Z"
   },
   {
    "duration": 5,
    "start_time": "2024-07-04T21:23:17.519Z"
   },
   {
    "duration": 1313,
    "start_time": "2024-07-04T21:23:20.487Z"
   },
   {
    "duration": 769,
    "start_time": "2024-07-04T21:23:35.318Z"
   },
   {
    "duration": 714,
    "start_time": "2024-07-04T21:24:45.965Z"
   },
   {
    "duration": 620,
    "start_time": "2024-07-04T21:25:10.276Z"
   },
   {
    "duration": 733,
    "start_time": "2024-07-04T21:25:21.797Z"
   },
   {
    "duration": 15,
    "start_time": "2024-07-04T21:26:34.353Z"
   },
   {
    "duration": 689,
    "start_time": "2024-07-04T21:37:01.273Z"
   },
   {
    "duration": 765,
    "start_time": "2024-07-04T21:39:21.669Z"
   },
   {
    "duration": 718,
    "start_time": "2024-07-04T21:42:09.641Z"
   },
   {
    "duration": 704,
    "start_time": "2024-07-04T21:42:46.839Z"
   },
   {
    "duration": 708,
    "start_time": "2024-07-04T21:44:33.373Z"
   },
   {
    "duration": 734,
    "start_time": "2024-07-04T21:45:23.475Z"
   },
   {
    "duration": 315,
    "start_time": "2024-07-05T01:27:27.466Z"
   },
   {
    "duration": 4,
    "start_time": "2024-07-05T01:27:33.567Z"
   },
   {
    "duration": 5025,
    "start_time": "2024-07-05T01:27:45.895Z"
   },
   {
    "duration": 58,
    "start_time": "2024-07-05T01:27:50.923Z"
   },
   {
    "duration": 22,
    "start_time": "2024-07-05T01:27:50.984Z"
   },
   {
    "duration": 25,
    "start_time": "2024-07-05T01:27:51.009Z"
   },
   {
    "duration": 18,
    "start_time": "2024-07-05T01:27:51.039Z"
   },
   {
    "duration": 18,
    "start_time": "2024-07-05T01:27:51.061Z"
   },
   {
    "duration": 53,
    "start_time": "2024-07-05T01:27:51.082Z"
   },
   {
    "duration": 12,
    "start_time": "2024-07-05T01:27:51.139Z"
   },
   {
    "duration": 20,
    "start_time": "2024-07-05T01:27:51.154Z"
   },
   {
    "duration": 5,
    "start_time": "2024-07-05T01:27:51.177Z"
   },
   {
    "duration": 47,
    "start_time": "2024-07-05T01:27:51.186Z"
   },
   {
    "duration": 6,
    "start_time": "2024-07-05T01:27:51.236Z"
   },
   {
    "duration": 6,
    "start_time": "2024-07-05T01:27:51.245Z"
   },
   {
    "duration": 9,
    "start_time": "2024-07-05T01:27:51.258Z"
   },
   {
    "duration": 64,
    "start_time": "2024-07-05T01:27:51.269Z"
   },
   {
    "duration": 12,
    "start_time": "2024-07-05T01:27:51.340Z"
   },
   {
    "duration": 24,
    "start_time": "2024-07-05T01:27:51.356Z"
   },
   {
    "duration": 519,
    "start_time": "2024-07-05T01:27:51.384Z"
   },
   {
    "duration": 12,
    "start_time": "2024-07-05T01:27:51.906Z"
   },
   {
    "duration": 6,
    "start_time": "2024-07-05T01:27:51.935Z"
   },
   {
    "duration": 17,
    "start_time": "2024-07-05T01:27:51.945Z"
   },
   {
    "duration": 768,
    "start_time": "2024-07-05T01:27:51.965Z"
   },
   {
    "duration": 11,
    "start_time": "2024-07-05T01:27:52.736Z"
   },
   {
    "duration": 9,
    "start_time": "2024-07-05T01:27:52.751Z"
   },
   {
    "duration": 8,
    "start_time": "2024-07-05T01:38:47.856Z"
   },
   {
    "duration": 19,
    "start_time": "2024-07-05T01:39:04.362Z"
   },
   {
    "duration": 32,
    "start_time": "2024-07-05T01:39:13.008Z"
   },
   {
    "duration": 28,
    "start_time": "2024-07-05T01:39:25.897Z"
   },
   {
    "duration": 6,
    "start_time": "2024-07-05T01:41:09.694Z"
   },
   {
    "duration": 23,
    "start_time": "2024-07-05T01:41:18.670Z"
   },
   {
    "duration": 7,
    "start_time": "2024-07-05T01:43:58.977Z"
   },
   {
    "duration": 158,
    "start_time": "2024-07-05T01:44:53.857Z"
   },
   {
    "duration": 174,
    "start_time": "2024-07-05T01:52:21.986Z"
   },
   {
    "duration": 160,
    "start_time": "2024-07-05T01:59:24.062Z"
   },
   {
    "duration": 352,
    "start_time": "2024-07-05T18:06:22.538Z"
   },
   {
    "duration": 5352,
    "start_time": "2024-07-05T18:06:34.909Z"
   },
   {
    "duration": 60,
    "start_time": "2024-07-05T18:06:40.265Z"
   },
   {
    "duration": 32,
    "start_time": "2024-07-05T18:06:40.328Z"
   },
   {
    "duration": 49,
    "start_time": "2024-07-05T18:06:40.364Z"
   },
   {
    "duration": 20,
    "start_time": "2024-07-05T18:06:40.417Z"
   },
   {
    "duration": 21,
    "start_time": "2024-07-05T18:06:40.441Z"
   },
   {
    "duration": 52,
    "start_time": "2024-07-05T18:06:40.467Z"
   },
   {
    "duration": 13,
    "start_time": "2024-07-05T18:06:40.522Z"
   },
   {
    "duration": 25,
    "start_time": "2024-07-05T18:06:40.538Z"
   },
   {
    "duration": 6,
    "start_time": "2024-07-05T18:06:40.566Z"
   },
   {
    "duration": 12,
    "start_time": "2024-07-05T18:06:40.616Z"
   },
   {
    "duration": 8,
    "start_time": "2024-07-05T18:06:40.633Z"
   },
   {
    "duration": 8,
    "start_time": "2024-07-05T18:06:40.645Z"
   },
   {
    "duration": 51,
    "start_time": "2024-07-05T18:06:40.662Z"
   },
   {
    "duration": 19,
    "start_time": "2024-07-05T18:06:40.716Z"
   },
   {
    "duration": 12,
    "start_time": "2024-07-05T18:06:40.738Z"
   },
   {
    "duration": 62,
    "start_time": "2024-07-05T18:06:40.754Z"
   },
   {
    "duration": 570,
    "start_time": "2024-07-05T18:06:40.820Z"
   },
   {
    "duration": 23,
    "start_time": "2024-07-05T18:06:41.397Z"
   },
   {
    "duration": 7,
    "start_time": "2024-07-05T18:06:41.424Z"
   },
   {
    "duration": 20,
    "start_time": "2024-07-05T18:06:41.435Z"
   },
   {
    "duration": 925,
    "start_time": "2024-07-05T18:06:41.459Z"
   },
   {
    "duration": 23,
    "start_time": "2024-07-05T18:06:42.389Z"
   },
   {
    "duration": 29,
    "start_time": "2024-07-05T18:06:42.416Z"
   },
   {
    "duration": 217,
    "start_time": "2024-07-05T18:06:42.449Z"
   },
   {
    "duration": 22,
    "start_time": "2024-07-05T18:14:10.336Z"
   },
   {
    "duration": 30,
    "start_time": "2024-07-05T18:14:19.281Z"
   },
   {
    "duration": 418,
    "start_time": "2024-07-05T18:15:48.160Z"
   },
   {
    "duration": 203,
    "start_time": "2024-07-05T18:16:18.496Z"
   },
   {
    "duration": 212,
    "start_time": "2024-07-05T18:17:20.190Z"
   },
   {
    "duration": 210,
    "start_time": "2024-07-05T18:18:15.176Z"
   },
   {
    "duration": 9,
    "start_time": "2024-07-05T18:26:43.500Z"
   },
   {
    "duration": 221,
    "start_time": "2024-07-05T18:26:49.594Z"
   },
   {
    "duration": 9,
    "start_time": "2024-07-05T18:29:49.309Z"
   },
   {
    "duration": 9,
    "start_time": "2024-07-05T18:31:34.274Z"
   },
   {
    "duration": 260,
    "start_time": "2024-07-05T18:32:45.506Z"
   },
   {
    "duration": 202,
    "start_time": "2024-07-05T18:33:03.053Z"
   },
   {
    "duration": 6,
    "start_time": "2024-07-05T18:33:12.617Z"
   },
   {
    "duration": 189,
    "start_time": "2024-07-05T18:33:18.074Z"
   },
   {
    "duration": 221,
    "start_time": "2024-07-05T18:33:38.599Z"
   },
   {
    "duration": 210,
    "start_time": "2024-07-05T18:33:47.416Z"
   },
   {
    "duration": 6,
    "start_time": "2024-07-05T18:40:14.557Z"
   },
   {
    "duration": 217,
    "start_time": "2024-07-05T18:48:52.863Z"
   },
   {
    "duration": 5,
    "start_time": "2024-07-05T18:49:15.710Z"
   },
   {
    "duration": 11,
    "start_time": "2024-07-05T19:05:09.157Z"
   },
   {
    "duration": 12,
    "start_time": "2024-07-05T19:05:21.211Z"
   },
   {
    "duration": 13,
    "start_time": "2024-07-05T19:05:35.667Z"
   },
   {
    "duration": 10,
    "start_time": "2024-07-05T19:05:42.370Z"
   },
   {
    "duration": 11,
    "start_time": "2024-07-05T19:05:54.274Z"
   },
   {
    "duration": 11,
    "start_time": "2024-07-05T19:06:02.074Z"
   },
   {
    "duration": 20,
    "start_time": "2024-07-05T19:07:26.391Z"
   },
   {
    "duration": 219,
    "start_time": "2024-07-05T19:12:44.964Z"
   },
   {
    "duration": 9,
    "start_time": "2024-07-05T19:13:19.191Z"
   },
   {
    "duration": 12,
    "start_time": "2024-07-05T19:13:25.397Z"
   },
   {
    "duration": 11,
    "start_time": "2024-07-05T19:13:39.694Z"
   },
   {
    "duration": 864,
    "start_time": "2024-07-05T19:13:57.716Z"
   },
   {
    "duration": 383,
    "start_time": "2024-07-05T19:14:17.612Z"
   },
   {
    "duration": 75,
    "start_time": "2024-07-05T19:14:23.364Z"
   },
   {
    "duration": 73,
    "start_time": "2024-07-05T19:14:51.777Z"
   },
   {
    "duration": 71,
    "start_time": "2024-07-05T19:15:02.859Z"
   },
   {
    "duration": 1250,
    "start_time": "2024-07-05T19:15:08.733Z"
   },
   {
    "duration": 53,
    "start_time": "2024-07-05T19:15:09.987Z"
   },
   {
    "duration": 28,
    "start_time": "2024-07-05T19:15:10.043Z"
   },
   {
    "duration": 36,
    "start_time": "2024-07-05T19:15:10.076Z"
   },
   {
    "duration": 19,
    "start_time": "2024-07-05T19:15:10.115Z"
   },
   {
    "duration": 19,
    "start_time": "2024-07-05T19:15:10.137Z"
   },
   {
    "duration": 55,
    "start_time": "2024-07-05T19:15:10.159Z"
   },
   {
    "duration": 12,
    "start_time": "2024-07-05T19:15:10.217Z"
   },
   {
    "duration": 21,
    "start_time": "2024-07-05T19:15:10.232Z"
   },
   {
    "duration": 5,
    "start_time": "2024-07-05T19:15:10.259Z"
   },
   {
    "duration": 45,
    "start_time": "2024-07-05T19:15:10.268Z"
   },
   {
    "duration": 7,
    "start_time": "2024-07-05T19:15:10.318Z"
   },
   {
    "duration": 9,
    "start_time": "2024-07-05T19:15:10.328Z"
   },
   {
    "duration": 10,
    "start_time": "2024-07-05T19:15:10.340Z"
   },
   {
    "duration": 62,
    "start_time": "2024-07-05T19:15:10.355Z"
   },
   {
    "duration": 8,
    "start_time": "2024-07-05T19:15:10.420Z"
   },
   {
    "duration": 26,
    "start_time": "2024-07-05T19:15:10.431Z"
   },
   {
    "duration": 507,
    "start_time": "2024-07-05T19:15:10.459Z"
   },
   {
    "duration": 15,
    "start_time": "2024-07-05T19:15:10.969Z"
   },
   {
    "duration": 26,
    "start_time": "2024-07-05T19:15:10.988Z"
   },
   {
    "duration": 16,
    "start_time": "2024-07-05T19:15:11.017Z"
   },
   {
    "duration": 838,
    "start_time": "2024-07-05T19:15:11.036Z"
   },
   {
    "duration": 9,
    "start_time": "2024-07-05T19:15:11.878Z"
   },
   {
    "duration": 41,
    "start_time": "2024-07-05T19:15:11.891Z"
   },
   {
    "duration": 195,
    "start_time": "2024-07-05T19:15:11.935Z"
   },
   {
    "duration": 9,
    "start_time": "2024-07-05T19:15:12.133Z"
   },
   {
    "duration": 261,
    "start_time": "2024-07-05T19:15:12.144Z"
   },
   {
    "duration": 6,
    "start_time": "2024-07-05T19:15:12.417Z"
   },
   {
    "duration": 226,
    "start_time": "2024-07-05T19:15:12.426Z"
   },
   {
    "duration": 7,
    "start_time": "2024-07-05T19:15:12.655Z"
   },
   {
    "duration": 11,
    "start_time": "2024-07-05T19:15:12.665Z"
   },
   {
    "duration": 754,
    "start_time": "2024-07-05T19:15:12.679Z"
   },
   {
    "duration": 11,
    "start_time": "2024-07-05T19:30:26.050Z"
   },
   {
    "duration": 1308,
    "start_time": "2024-07-05T19:33:13.934Z"
   },
   {
    "duration": 10,
    "start_time": "2024-07-05T19:33:23.054Z"
   },
   {
    "duration": 10,
    "start_time": "2024-07-05T19:35:21.545Z"
   },
   {
    "duration": 18,
    "start_time": "2024-07-05T19:37:14.179Z"
   },
   {
    "duration": 18,
    "start_time": "2024-07-05T19:37:39.014Z"
   },
   {
    "duration": 28,
    "start_time": "2024-07-05T19:38:01.175Z"
   },
   {
    "duration": 16,
    "start_time": "2024-07-05T19:38:06.002Z"
   },
   {
    "duration": 9,
    "start_time": "2024-07-05T19:40:54.740Z"
   },
   {
    "duration": 17,
    "start_time": "2024-07-05T19:41:53.374Z"
   },
   {
    "duration": 13,
    "start_time": "2024-07-05T19:50:32.665Z"
   },
   {
    "duration": 14,
    "start_time": "2024-07-05T19:50:57.646Z"
   },
   {
    "duration": 22,
    "start_time": "2024-07-05T20:03:38.220Z"
   },
   {
    "duration": 23,
    "start_time": "2024-07-05T20:03:48.125Z"
   },
   {
    "duration": 144,
    "start_time": "2024-07-05T20:04:19.380Z"
   },
   {
    "duration": 146,
    "start_time": "2024-07-05T20:05:44.657Z"
   },
   {
    "duration": 14,
    "start_time": "2024-07-05T20:07:19.582Z"
   },
   {
    "duration": 12,
    "start_time": "2024-07-05T20:07:33.038Z"
   },
   {
    "duration": 12,
    "start_time": "2024-07-05T20:07:40.821Z"
   },
   {
    "duration": 237,
    "start_time": "2024-07-05T20:07:54.749Z"
   },
   {
    "duration": 10,
    "start_time": "2024-07-05T20:08:03.120Z"
   },
   {
    "duration": 219,
    "start_time": "2024-07-05T20:09:01.747Z"
   },
   {
    "duration": 7,
    "start_time": "2024-07-05T20:09:09.413Z"
   },
   {
    "duration": 20,
    "start_time": "2024-07-05T20:12:04.920Z"
   },
   {
    "duration": 1958,
    "start_time": "2024-07-05T20:12:10.998Z"
   },
   {
    "duration": 30,
    "start_time": "2024-07-05T20:12:40.657Z"
   },
   {
    "duration": 1077,
    "start_time": "2024-07-05T20:12:42.358Z"
   },
   {
    "duration": 22,
    "start_time": "2024-07-05T20:18:01.655Z"
   },
   {
    "duration": 140,
    "start_time": "2024-07-05T20:18:05.629Z"
   },
   {
    "duration": 10,
    "start_time": "2024-07-05T20:19:17.276Z"
   },
   {
    "duration": 201,
    "start_time": "2024-07-05T20:19:21.674Z"
   },
   {
    "duration": 7,
    "start_time": "2024-07-05T20:19:24.468Z"
   },
   {
    "duration": 200,
    "start_time": "2024-07-05T20:19:31.555Z"
   },
   {
    "duration": 9,
    "start_time": "2024-07-05T20:19:34.133Z"
   },
   {
    "duration": 17,
    "start_time": "2024-07-05T20:20:28.706Z"
   },
   {
    "duration": 958,
    "start_time": "2024-07-05T20:20:31.994Z"
   },
   {
    "duration": 24,
    "start_time": "2024-07-05T20:24:57.866Z"
   },
   {
    "duration": 19,
    "start_time": "2024-07-05T20:25:06.459Z"
   },
   {
    "duration": 4921,
    "start_time": "2024-07-05T21:08:21.737Z"
   },
   {
    "duration": 57,
    "start_time": "2024-07-05T21:08:26.662Z"
   },
   {
    "duration": 23,
    "start_time": "2024-07-05T21:08:26.722Z"
   },
   {
    "duration": 19,
    "start_time": "2024-07-05T21:08:26.748Z"
   },
   {
    "duration": 19,
    "start_time": "2024-07-05T21:08:26.772Z"
   },
   {
    "duration": 53,
    "start_time": "2024-07-05T21:08:26.793Z"
   },
   {
    "duration": 18,
    "start_time": "2024-07-05T21:08:26.849Z"
   },
   {
    "duration": 11,
    "start_time": "2024-07-05T21:08:26.871Z"
   },
   {
    "duration": 59,
    "start_time": "2024-07-05T21:08:26.885Z"
   },
   {
    "duration": 5,
    "start_time": "2024-07-05T21:08:26.947Z"
   },
   {
    "duration": 11,
    "start_time": "2024-07-05T21:08:26.956Z"
   },
   {
    "duration": 6,
    "start_time": "2024-07-05T21:08:26.971Z"
   },
   {
    "duration": 48,
    "start_time": "2024-07-05T21:08:26.981Z"
   },
   {
    "duration": 9,
    "start_time": "2024-07-05T21:08:27.036Z"
   },
   {
    "duration": 18,
    "start_time": "2024-07-05T21:08:27.048Z"
   },
   {
    "duration": 9,
    "start_time": "2024-07-05T21:08:27.069Z"
   },
   {
    "duration": 60,
    "start_time": "2024-07-05T21:08:27.081Z"
   },
   {
    "duration": 479,
    "start_time": "2024-07-05T21:08:27.144Z"
   },
   {
    "duration": 12,
    "start_time": "2024-07-05T21:08:27.626Z"
   },
   {
    "duration": 5,
    "start_time": "2024-07-05T21:08:27.642Z"
   },
   {
    "duration": 16,
    "start_time": "2024-07-05T21:08:27.650Z"
   },
   {
    "duration": 769,
    "start_time": "2024-07-05T21:08:27.669Z"
   },
   {
    "duration": 13,
    "start_time": "2024-07-05T21:08:28.442Z"
   },
   {
    "duration": 26,
    "start_time": "2024-07-05T21:08:28.459Z"
   },
   {
    "duration": 195,
    "start_time": "2024-07-05T21:08:28.488Z"
   },
   {
    "duration": 10,
    "start_time": "2024-07-05T21:08:28.687Z"
   },
   {
    "duration": 224,
    "start_time": "2024-07-05T21:08:28.700Z"
   },
   {
    "duration": 6,
    "start_time": "2024-07-05T21:08:28.932Z"
   },
   {
    "duration": 292,
    "start_time": "2024-07-05T21:08:28.942Z"
   },
   {
    "duration": 6,
    "start_time": "2024-07-05T21:08:29.237Z"
   },
   {
    "duration": 19,
    "start_time": "2024-07-05T21:08:29.246Z"
   },
   {
    "duration": 1034,
    "start_time": "2024-07-05T21:08:29.268Z"
   },
   {
    "duration": 35,
    "start_time": "2024-07-05T21:08:30.306Z"
   },
   {
    "duration": 16,
    "start_time": "2024-07-05T21:08:30.344Z"
   },
   {
    "duration": 31,
    "start_time": "2024-07-05T21:08:30.363Z"
   },
   {
    "duration": 28,
    "start_time": "2024-07-05T21:08:40.052Z"
   },
   {
    "duration": 12,
    "start_time": "2024-07-05T21:11:15.337Z"
   },
   {
    "duration": 11,
    "start_time": "2024-07-05T21:11:32.347Z"
   },
   {
    "duration": 12,
    "start_time": "2024-07-05T21:11:42.328Z"
   },
   {
    "duration": 16,
    "start_time": "2024-07-05T21:14:31.580Z"
   },
   {
    "duration": 15,
    "start_time": "2024-07-05T21:14:54.910Z"
   },
   {
    "duration": 15,
    "start_time": "2024-07-05T21:26:26.007Z"
   },
   {
    "duration": 15,
    "start_time": "2024-07-05T21:36:21.061Z"
   },
   {
    "duration": 42,
    "start_time": "2024-07-05T22:17:59.295Z"
   },
   {
    "duration": 1497,
    "start_time": "2024-07-05T22:18:13.841Z"
   },
   {
    "duration": 10,
    "start_time": "2024-07-05T22:18:40.518Z"
   },
   {
    "duration": 10,
    "start_time": "2024-07-05T22:18:59.077Z"
   },
   {
    "duration": 10,
    "start_time": "2024-07-05T22:19:02.366Z"
   },
   {
    "duration": 9,
    "start_time": "2024-07-05T22:19:06.342Z"
   },
   {
    "duration": 11,
    "start_time": "2024-07-05T22:20:16.275Z"
   },
   {
    "duration": 11,
    "start_time": "2024-07-05T22:21:08.099Z"
   },
   {
    "duration": 14,
    "start_time": "2024-07-05T22:21:10.947Z"
   },
   {
    "duration": 6,
    "start_time": "2024-07-05T22:21:56.874Z"
   },
   {
    "duration": 11,
    "start_time": "2024-07-05T22:22:07.265Z"
   },
   {
    "duration": 6,
    "start_time": "2024-07-05T22:22:08.988Z"
   },
   {
    "duration": 9,
    "start_time": "2024-07-05T22:22:12.930Z"
   },
   {
    "duration": 6,
    "start_time": "2024-07-05T22:22:16.057Z"
   },
   {
    "duration": 12,
    "start_time": "2024-07-05T22:22:17.713Z"
   },
   {
    "duration": 6,
    "start_time": "2024-07-05T22:22:19.206Z"
   },
   {
    "duration": 6,
    "start_time": "2024-07-05T22:22:23.817Z"
   },
   {
    "duration": 13,
    "start_time": "2024-07-05T22:46:38.200Z"
   },
   {
    "duration": 6,
    "start_time": "2024-07-05T22:47:48.520Z"
   },
   {
    "duration": 315,
    "start_time": "2024-07-06T18:17:39.854Z"
   },
   {
    "duration": 4880,
    "start_time": "2024-07-06T18:17:51.098Z"
   },
   {
    "duration": 55,
    "start_time": "2024-07-06T18:17:55.982Z"
   },
   {
    "duration": 22,
    "start_time": "2024-07-06T18:17:56.040Z"
   },
   {
    "duration": 19,
    "start_time": "2024-07-06T18:17:56.066Z"
   },
   {
    "duration": 50,
    "start_time": "2024-07-06T18:17:56.088Z"
   },
   {
    "duration": 20,
    "start_time": "2024-07-06T18:17:56.141Z"
   },
   {
    "duration": 19,
    "start_time": "2024-07-06T18:17:56.163Z"
   },
   {
    "duration": 46,
    "start_time": "2024-07-06T18:17:56.185Z"
   },
   {
    "duration": 22,
    "start_time": "2024-07-06T18:17:56.234Z"
   },
   {
    "duration": 4,
    "start_time": "2024-07-06T18:17:56.264Z"
   },
   {
    "duration": 436,
    "start_time": "2024-07-06T18:17:56.272Z"
   },
   {
    "duration": 0,
    "start_time": "2024-07-06T18:17:56.712Z"
   },
   {
    "duration": 0,
    "start_time": "2024-07-06T18:17:56.715Z"
   },
   {
    "duration": 0,
    "start_time": "2024-07-06T18:17:56.731Z"
   },
   {
    "duration": 0,
    "start_time": "2024-07-06T18:17:56.733Z"
   },
   {
    "duration": 0,
    "start_time": "2024-07-06T18:17:56.735Z"
   },
   {
    "duration": 0,
    "start_time": "2024-07-06T18:17:56.737Z"
   },
   {
    "duration": 0,
    "start_time": "2024-07-06T18:17:56.740Z"
   },
   {
    "duration": 0,
    "start_time": "2024-07-06T18:17:56.742Z"
   },
   {
    "duration": 0,
    "start_time": "2024-07-06T18:17:56.744Z"
   },
   {
    "duration": 0,
    "start_time": "2024-07-06T18:17:56.746Z"
   },
   {
    "duration": 0,
    "start_time": "2024-07-06T18:17:56.748Z"
   },
   {
    "duration": 0,
    "start_time": "2024-07-06T18:17:56.751Z"
   },
   {
    "duration": 0,
    "start_time": "2024-07-06T18:17:56.753Z"
   },
   {
    "duration": 0,
    "start_time": "2024-07-06T18:17:56.755Z"
   },
   {
    "duration": 0,
    "start_time": "2024-07-06T18:17:56.757Z"
   },
   {
    "duration": 0,
    "start_time": "2024-07-06T18:17:56.759Z"
   },
   {
    "duration": 0,
    "start_time": "2024-07-06T18:17:56.762Z"
   },
   {
    "duration": 0,
    "start_time": "2024-07-06T18:17:56.764Z"
   },
   {
    "duration": 0,
    "start_time": "2024-07-06T18:17:56.767Z"
   },
   {
    "duration": 0,
    "start_time": "2024-07-06T18:17:56.831Z"
   },
   {
    "duration": 0,
    "start_time": "2024-07-06T18:17:56.833Z"
   },
   {
    "duration": 0,
    "start_time": "2024-07-06T18:17:56.836Z"
   },
   {
    "duration": 0,
    "start_time": "2024-07-06T18:17:56.839Z"
   },
   {
    "duration": 0,
    "start_time": "2024-07-06T18:17:56.841Z"
   },
   {
    "duration": 0,
    "start_time": "2024-07-06T18:17:56.844Z"
   },
   {
    "duration": 0,
    "start_time": "2024-07-06T18:17:56.846Z"
   },
   {
    "duration": 1,
    "start_time": "2024-07-06T18:17:56.847Z"
   },
   {
    "duration": 0,
    "start_time": "2024-07-06T18:17:56.850Z"
   },
   {
    "duration": 0,
    "start_time": "2024-07-06T18:17:56.852Z"
   },
   {
    "duration": 0,
    "start_time": "2024-07-06T18:17:56.854Z"
   },
   {
    "duration": 0,
    "start_time": "2024-07-06T18:17:56.857Z"
   },
   {
    "duration": 7,
    "start_time": "2024-07-06T18:18:02.086Z"
   },
   {
    "duration": 10,
    "start_time": "2024-07-06T18:18:16.767Z"
   },
   {
    "duration": 11,
    "start_time": "2024-07-06T18:18:29.997Z"
   },
   {
    "duration": 10,
    "start_time": "2024-07-06T18:19:09.549Z"
   },
   {
    "duration": 11,
    "start_time": "2024-07-06T18:20:01.112Z"
   },
   {
    "duration": 6,
    "start_time": "2024-07-06T18:20:52.271Z"
   },
   {
    "duration": 8,
    "start_time": "2024-07-06T18:20:56.179Z"
   },
   {
    "duration": 8,
    "start_time": "2024-07-06T18:22:01.587Z"
   },
   {
    "duration": 1061,
    "start_time": "2024-07-06T18:22:42.018Z"
   },
   {
    "duration": 121,
    "start_time": "2024-07-06T18:24:31.724Z"
   },
   {
    "duration": 189,
    "start_time": "2024-07-06T18:24:57.401Z"
   },
   {
    "duration": 109,
    "start_time": "2024-07-06T18:25:08.312Z"
   },
   {
    "duration": 105,
    "start_time": "2024-07-06T18:25:35.408Z"
   },
   {
    "duration": 6,
    "start_time": "2024-07-06T18:25:39.674Z"
   },
   {
    "duration": 6,
    "start_time": "2024-07-06T18:26:18.575Z"
   },
   {
    "duration": 9,
    "start_time": "2024-07-06T18:27:13.654Z"
   },
   {
    "duration": 6,
    "start_time": "2024-07-06T18:28:57.763Z"
   },
   {
    "duration": 9,
    "start_time": "2024-07-06T18:29:06.348Z"
   },
   {
    "duration": 6,
    "start_time": "2024-07-06T18:30:51.110Z"
   },
   {
    "duration": 13,
    "start_time": "2024-07-06T18:31:02.456Z"
   },
   {
    "duration": 1303,
    "start_time": "2024-07-06T18:31:21.823Z"
   },
   {
    "duration": 38,
    "start_time": "2024-07-06T18:31:23.132Z"
   },
   {
    "duration": 22,
    "start_time": "2024-07-06T18:31:23.173Z"
   },
   {
    "duration": 39,
    "start_time": "2024-07-06T18:31:23.199Z"
   },
   {
    "duration": 19,
    "start_time": "2024-07-06T18:31:23.241Z"
   },
   {
    "duration": 17,
    "start_time": "2024-07-06T18:31:23.263Z"
   },
   {
    "duration": 50,
    "start_time": "2024-07-06T18:31:23.283Z"
   },
   {
    "duration": 11,
    "start_time": "2024-07-06T18:31:23.337Z"
   },
   {
    "duration": 21,
    "start_time": "2024-07-06T18:31:23.351Z"
   },
   {
    "duration": 5,
    "start_time": "2024-07-06T18:31:23.378Z"
   },
   {
    "duration": 8,
    "start_time": "2024-07-06T18:31:23.429Z"
   },
   {
    "duration": 474,
    "start_time": "2024-07-06T18:31:23.440Z"
   },
   {
    "duration": 0,
    "start_time": "2024-07-06T18:31:23.918Z"
   },
   {
    "duration": 0,
    "start_time": "2024-07-06T18:31:23.931Z"
   },
   {
    "duration": 0,
    "start_time": "2024-07-06T18:31:23.932Z"
   },
   {
    "duration": 0,
    "start_time": "2024-07-06T18:31:23.934Z"
   },
   {
    "duration": 0,
    "start_time": "2024-07-06T18:31:23.936Z"
   },
   {
    "duration": 0,
    "start_time": "2024-07-06T18:31:23.938Z"
   },
   {
    "duration": 0,
    "start_time": "2024-07-06T18:31:23.943Z"
   },
   {
    "duration": 0,
    "start_time": "2024-07-06T18:31:23.945Z"
   },
   {
    "duration": 0,
    "start_time": "2024-07-06T18:31:23.947Z"
   },
   {
    "duration": 0,
    "start_time": "2024-07-06T18:31:23.950Z"
   },
   {
    "duration": 0,
    "start_time": "2024-07-06T18:31:23.952Z"
   },
   {
    "duration": 0,
    "start_time": "2024-07-06T18:31:23.954Z"
   },
   {
    "duration": 0,
    "start_time": "2024-07-06T18:31:23.956Z"
   },
   {
    "duration": 0,
    "start_time": "2024-07-06T18:31:23.959Z"
   },
   {
    "duration": 0,
    "start_time": "2024-07-06T18:31:23.962Z"
   },
   {
    "duration": 0,
    "start_time": "2024-07-06T18:31:23.965Z"
   },
   {
    "duration": 0,
    "start_time": "2024-07-06T18:31:23.967Z"
   },
   {
    "duration": 0,
    "start_time": "2024-07-06T18:31:23.970Z"
   },
   {
    "duration": 0,
    "start_time": "2024-07-06T18:31:23.973Z"
   },
   {
    "duration": 0,
    "start_time": "2024-07-06T18:31:24.032Z"
   },
   {
    "duration": 0,
    "start_time": "2024-07-06T18:31:24.034Z"
   },
   {
    "duration": 0,
    "start_time": "2024-07-06T18:31:24.036Z"
   },
   {
    "duration": 0,
    "start_time": "2024-07-06T18:31:24.037Z"
   },
   {
    "duration": 0,
    "start_time": "2024-07-06T18:31:24.042Z"
   },
   {
    "duration": 0,
    "start_time": "2024-07-06T18:31:24.044Z"
   },
   {
    "duration": 1,
    "start_time": "2024-07-06T18:31:24.046Z"
   },
   {
    "duration": 0,
    "start_time": "2024-07-06T18:31:24.049Z"
   },
   {
    "duration": 0,
    "start_time": "2024-07-06T18:31:24.052Z"
   },
   {
    "duration": 0,
    "start_time": "2024-07-06T18:31:24.054Z"
   },
   {
    "duration": 0,
    "start_time": "2024-07-06T18:31:24.056Z"
   },
   {
    "duration": 0,
    "start_time": "2024-07-06T18:31:24.058Z"
   },
   {
    "duration": 0,
    "start_time": "2024-07-06T18:31:24.059Z"
   },
   {
    "duration": 12,
    "start_time": "2024-07-06T18:31:32.838Z"
   },
   {
    "duration": 1272,
    "start_time": "2024-07-06T18:32:06.323Z"
   },
   {
    "duration": 45,
    "start_time": "2024-07-06T18:32:07.598Z"
   },
   {
    "duration": 25,
    "start_time": "2024-07-06T18:32:07.645Z"
   },
   {
    "duration": 21,
    "start_time": "2024-07-06T18:32:07.674Z"
   },
   {
    "duration": 49,
    "start_time": "2024-07-06T18:32:07.699Z"
   },
   {
    "duration": 18,
    "start_time": "2024-07-06T18:32:07.751Z"
   },
   {
    "duration": 18,
    "start_time": "2024-07-06T18:32:07.772Z"
   },
   {
    "duration": 46,
    "start_time": "2024-07-06T18:32:07.793Z"
   },
   {
    "duration": 21,
    "start_time": "2024-07-06T18:32:07.842Z"
   },
   {
    "duration": 5,
    "start_time": "2024-07-06T18:32:07.869Z"
   },
   {
    "duration": 8,
    "start_time": "2024-07-06T18:32:07.877Z"
   },
   {
    "duration": 529,
    "start_time": "2024-07-06T18:32:07.931Z"
   },
   {
    "duration": 0,
    "start_time": "2024-07-06T18:32:08.465Z"
   },
   {
    "duration": 0,
    "start_time": "2024-07-06T18:32:08.466Z"
   },
   {
    "duration": 0,
    "start_time": "2024-07-06T18:32:08.468Z"
   },
   {
    "duration": 0,
    "start_time": "2024-07-06T18:32:08.471Z"
   },
   {
    "duration": 0,
    "start_time": "2024-07-06T18:32:08.473Z"
   },
   {
    "duration": 0,
    "start_time": "2024-07-06T18:32:08.475Z"
   },
   {
    "duration": 0,
    "start_time": "2024-07-06T18:32:08.477Z"
   },
   {
    "duration": 0,
    "start_time": "2024-07-06T18:32:08.478Z"
   },
   {
    "duration": 0,
    "start_time": "2024-07-06T18:32:08.480Z"
   },
   {
    "duration": 0,
    "start_time": "2024-07-06T18:32:08.482Z"
   },
   {
    "duration": 0,
    "start_time": "2024-07-06T18:32:08.484Z"
   },
   {
    "duration": 0,
    "start_time": "2024-07-06T18:32:08.486Z"
   },
   {
    "duration": 0,
    "start_time": "2024-07-06T18:32:08.488Z"
   },
   {
    "duration": 0,
    "start_time": "2024-07-06T18:32:08.489Z"
   },
   {
    "duration": 0,
    "start_time": "2024-07-06T18:32:08.491Z"
   },
   {
    "duration": 0,
    "start_time": "2024-07-06T18:32:08.531Z"
   },
   {
    "duration": 0,
    "start_time": "2024-07-06T18:32:08.534Z"
   },
   {
    "duration": 0,
    "start_time": "2024-07-06T18:32:08.535Z"
   },
   {
    "duration": 0,
    "start_time": "2024-07-06T18:32:08.538Z"
   },
   {
    "duration": 0,
    "start_time": "2024-07-06T18:32:08.540Z"
   },
   {
    "duration": 0,
    "start_time": "2024-07-06T18:32:08.541Z"
   },
   {
    "duration": 0,
    "start_time": "2024-07-06T18:32:08.544Z"
   },
   {
    "duration": 0,
    "start_time": "2024-07-06T18:32:08.546Z"
   },
   {
    "duration": 0,
    "start_time": "2024-07-06T18:32:08.548Z"
   },
   {
    "duration": 0,
    "start_time": "2024-07-06T18:32:08.550Z"
   },
   {
    "duration": 0,
    "start_time": "2024-07-06T18:32:08.552Z"
   },
   {
    "duration": 0,
    "start_time": "2024-07-06T18:32:08.554Z"
   },
   {
    "duration": 0,
    "start_time": "2024-07-06T18:32:08.556Z"
   },
   {
    "duration": 0,
    "start_time": "2024-07-06T18:32:08.558Z"
   },
   {
    "duration": 0,
    "start_time": "2024-07-06T18:32:08.560Z"
   },
   {
    "duration": 0,
    "start_time": "2024-07-06T18:32:08.562Z"
   },
   {
    "duration": 0,
    "start_time": "2024-07-06T18:32:08.563Z"
   },
   {
    "duration": 25,
    "start_time": "2024-07-06T18:32:15.494Z"
   },
   {
    "duration": 24,
    "start_time": "2024-07-06T18:32:26.406Z"
   },
   {
    "duration": 11,
    "start_time": "2024-07-06T18:33:10.876Z"
   },
   {
    "duration": 12,
    "start_time": "2024-07-06T18:34:07.558Z"
   },
   {
    "duration": 1235,
    "start_time": "2024-07-06T18:36:01.190Z"
   },
   {
    "duration": 39,
    "start_time": "2024-07-06T18:36:02.432Z"
   },
   {
    "duration": 23,
    "start_time": "2024-07-06T18:36:02.474Z"
   },
   {
    "duration": 43,
    "start_time": "2024-07-06T18:36:02.500Z"
   },
   {
    "duration": 19,
    "start_time": "2024-07-06T18:36:02.548Z"
   },
   {
    "duration": 18,
    "start_time": "2024-07-06T18:36:02.570Z"
   },
   {
    "duration": 20,
    "start_time": "2024-07-06T18:36:02.630Z"
   },
   {
    "duration": 12,
    "start_time": "2024-07-06T18:36:02.653Z"
   },
   {
    "duration": 20,
    "start_time": "2024-07-06T18:36:02.667Z"
   },
   {
    "duration": 5,
    "start_time": "2024-07-06T18:36:02.691Z"
   },
   {
    "duration": 13,
    "start_time": "2024-07-06T18:36:02.732Z"
   },
   {
    "duration": 499,
    "start_time": "2024-07-06T18:36:02.748Z"
   },
   {
    "duration": 0,
    "start_time": "2024-07-06T18:36:03.252Z"
   },
   {
    "duration": 0,
    "start_time": "2024-07-06T18:36:03.254Z"
   },
   {
    "duration": 0,
    "start_time": "2024-07-06T18:36:03.256Z"
   },
   {
    "duration": 0,
    "start_time": "2024-07-06T18:36:03.258Z"
   },
   {
    "duration": 0,
    "start_time": "2024-07-06T18:36:03.259Z"
   },
   {
    "duration": 0,
    "start_time": "2024-07-06T18:36:03.263Z"
   },
   {
    "duration": 0,
    "start_time": "2024-07-06T18:36:03.265Z"
   },
   {
    "duration": 0,
    "start_time": "2024-07-06T18:36:03.267Z"
   },
   {
    "duration": 0,
    "start_time": "2024-07-06T18:36:03.270Z"
   },
   {
    "duration": 0,
    "start_time": "2024-07-06T18:36:03.272Z"
   },
   {
    "duration": 0,
    "start_time": "2024-07-06T18:36:03.275Z"
   },
   {
    "duration": 0,
    "start_time": "2024-07-06T18:36:03.277Z"
   },
   {
    "duration": 0,
    "start_time": "2024-07-06T18:36:03.279Z"
   },
   {
    "duration": 0,
    "start_time": "2024-07-06T18:36:03.281Z"
   },
   {
    "duration": 0,
    "start_time": "2024-07-06T18:36:03.332Z"
   },
   {
    "duration": 0,
    "start_time": "2024-07-06T18:36:03.334Z"
   },
   {
    "duration": 0,
    "start_time": "2024-07-06T18:36:03.336Z"
   },
   {
    "duration": 0,
    "start_time": "2024-07-06T18:36:03.338Z"
   },
   {
    "duration": 0,
    "start_time": "2024-07-06T18:36:03.340Z"
   },
   {
    "duration": 0,
    "start_time": "2024-07-06T18:36:03.342Z"
   },
   {
    "duration": 0,
    "start_time": "2024-07-06T18:36:03.343Z"
   },
   {
    "duration": 0,
    "start_time": "2024-07-06T18:36:03.345Z"
   },
   {
    "duration": 0,
    "start_time": "2024-07-06T18:36:03.346Z"
   },
   {
    "duration": 1,
    "start_time": "2024-07-06T18:36:03.347Z"
   },
   {
    "duration": 1,
    "start_time": "2024-07-06T18:36:03.349Z"
   },
   {
    "duration": 0,
    "start_time": "2024-07-06T18:36:03.351Z"
   },
   {
    "duration": 0,
    "start_time": "2024-07-06T18:36:03.353Z"
   },
   {
    "duration": 0,
    "start_time": "2024-07-06T18:36:03.355Z"
   },
   {
    "duration": 1,
    "start_time": "2024-07-06T18:36:03.356Z"
   },
   {
    "duration": 0,
    "start_time": "2024-07-06T18:36:03.358Z"
   },
   {
    "duration": 1,
    "start_time": "2024-07-06T18:36:03.359Z"
   },
   {
    "duration": 0,
    "start_time": "2024-07-06T18:36:03.361Z"
   },
   {
    "duration": 10,
    "start_time": "2024-07-06T18:36:09.056Z"
   },
   {
    "duration": 10,
    "start_time": "2024-07-06T18:37:20.842Z"
   },
   {
    "duration": 11,
    "start_time": "2024-07-06T18:38:52.993Z"
   },
   {
    "duration": 1240,
    "start_time": "2024-07-06T18:39:13.673Z"
   },
   {
    "duration": 41,
    "start_time": "2024-07-06T18:39:14.917Z"
   },
   {
    "duration": 23,
    "start_time": "2024-07-06T18:39:14.961Z"
   },
   {
    "duration": 43,
    "start_time": "2024-07-06T18:39:14.987Z"
   },
   {
    "duration": 19,
    "start_time": "2024-07-06T18:39:15.034Z"
   },
   {
    "duration": 18,
    "start_time": "2024-07-06T18:39:15.056Z"
   },
   {
    "duration": 18,
    "start_time": "2024-07-06T18:39:15.077Z"
   },
   {
    "duration": 12,
    "start_time": "2024-07-06T18:39:15.130Z"
   },
   {
    "duration": 19,
    "start_time": "2024-07-06T18:39:15.145Z"
   },
   {
    "duration": 4,
    "start_time": "2024-07-06T18:39:15.170Z"
   },
   {
    "duration": 8,
    "start_time": "2024-07-06T18:39:15.177Z"
   },
   {
    "duration": 511,
    "start_time": "2024-07-06T18:39:15.188Z"
   },
   {
    "duration": 0,
    "start_time": "2024-07-06T18:39:15.702Z"
   },
   {
    "duration": 0,
    "start_time": "2024-07-06T18:39:15.704Z"
   },
   {
    "duration": 0,
    "start_time": "2024-07-06T18:39:15.706Z"
   },
   {
    "duration": 0,
    "start_time": "2024-07-06T18:39:15.711Z"
   },
   {
    "duration": 0,
    "start_time": "2024-07-06T18:39:15.713Z"
   },
   {
    "duration": 0,
    "start_time": "2024-07-06T18:39:15.731Z"
   },
   {
    "duration": 0,
    "start_time": "2024-07-06T18:39:15.734Z"
   },
   {
    "duration": 0,
    "start_time": "2024-07-06T18:39:15.737Z"
   },
   {
    "duration": 0,
    "start_time": "2024-07-06T18:39:15.738Z"
   },
   {
    "duration": 0,
    "start_time": "2024-07-06T18:39:15.741Z"
   },
   {
    "duration": 0,
    "start_time": "2024-07-06T18:39:15.742Z"
   },
   {
    "duration": 1,
    "start_time": "2024-07-06T18:39:15.743Z"
   },
   {
    "duration": 0,
    "start_time": "2024-07-06T18:39:15.746Z"
   },
   {
    "duration": 0,
    "start_time": "2024-07-06T18:39:15.748Z"
   },
   {
    "duration": 1,
    "start_time": "2024-07-06T18:39:15.749Z"
   },
   {
    "duration": 0,
    "start_time": "2024-07-06T18:39:15.753Z"
   },
   {
    "duration": 0,
    "start_time": "2024-07-06T18:39:15.754Z"
   },
   {
    "duration": 0,
    "start_time": "2024-07-06T18:39:15.756Z"
   },
   {
    "duration": 0,
    "start_time": "2024-07-06T18:39:15.758Z"
   },
   {
    "duration": 0,
    "start_time": "2024-07-06T18:39:15.760Z"
   },
   {
    "duration": 0,
    "start_time": "2024-07-06T18:39:15.762Z"
   },
   {
    "duration": 0,
    "start_time": "2024-07-06T18:39:15.765Z"
   },
   {
    "duration": 0,
    "start_time": "2024-07-06T18:39:15.767Z"
   },
   {
    "duration": 0,
    "start_time": "2024-07-06T18:39:15.769Z"
   },
   {
    "duration": 0,
    "start_time": "2024-07-06T18:39:15.771Z"
   },
   {
    "duration": 0,
    "start_time": "2024-07-06T18:39:15.830Z"
   },
   {
    "duration": 0,
    "start_time": "2024-07-06T18:39:15.832Z"
   },
   {
    "duration": 0,
    "start_time": "2024-07-06T18:39:15.833Z"
   },
   {
    "duration": 0,
    "start_time": "2024-07-06T18:39:15.835Z"
   },
   {
    "duration": 0,
    "start_time": "2024-07-06T18:39:15.837Z"
   },
   {
    "duration": 0,
    "start_time": "2024-07-06T18:39:15.838Z"
   },
   {
    "duration": 0,
    "start_time": "2024-07-06T18:39:15.840Z"
   },
   {
    "duration": 9,
    "start_time": "2024-07-06T18:39:21.683Z"
   },
   {
    "duration": 13,
    "start_time": "2024-07-06T18:42:20.934Z"
   },
   {
    "duration": 10,
    "start_time": "2024-07-06T18:44:04.610Z"
   },
   {
    "duration": 12,
    "start_time": "2024-07-06T18:44:14.553Z"
   },
   {
    "duration": 10,
    "start_time": "2024-07-06T18:44:40.721Z"
   },
   {
    "duration": 31,
    "start_time": "2024-07-06T18:45:02.872Z"
   },
   {
    "duration": 10,
    "start_time": "2024-07-06T18:47:49.484Z"
   },
   {
    "duration": 32,
    "start_time": "2024-07-06T18:49:25.131Z"
   },
   {
    "duration": 11,
    "start_time": "2024-07-06T18:56:42.753Z"
   },
   {
    "duration": 30,
    "start_time": "2024-07-06T18:57:02.083Z"
   },
   {
    "duration": 18,
    "start_time": "2024-07-06T18:57:21.537Z"
   },
   {
    "duration": 5,
    "start_time": "2024-07-06T18:57:40.527Z"
   },
   {
    "duration": 9,
    "start_time": "2024-07-06T18:57:43.252Z"
   },
   {
    "duration": 17,
    "start_time": "2024-07-06T18:57:50.269Z"
   },
   {
    "duration": 8,
    "start_time": "2024-07-06T18:58:15.075Z"
   },
   {
    "duration": 22,
    "start_time": "2024-07-06T18:58:33.605Z"
   },
   {
    "duration": 478,
    "start_time": "2024-07-06T18:58:36.772Z"
   },
   {
    "duration": 18,
    "start_time": "2024-07-06T19:00:42.042Z"
   },
   {
    "duration": 11,
    "start_time": "2024-07-06T19:02:12.580Z"
   },
   {
    "duration": 5,
    "start_time": "2024-07-06T19:03:34.061Z"
   },
   {
    "duration": 15,
    "start_time": "2024-07-06T19:03:56.773Z"
   },
   {
    "duration": 520,
    "start_time": "2024-07-06T19:04:02.196Z"
   },
   {
    "duration": 15,
    "start_time": "2024-07-06T19:05:46.754Z"
   },
   {
    "duration": 6,
    "start_time": "2024-07-06T19:06:44.014Z"
   },
   {
    "duration": 579,
    "start_time": "2024-07-06T19:06:54.406Z"
   },
   {
    "duration": 9,
    "start_time": "2024-07-06T19:07:09.263Z"
   },
   {
    "duration": 29,
    "start_time": "2024-07-06T19:20:14.332Z"
   },
   {
    "duration": 38,
    "start_time": "2024-07-06T19:20:31.492Z"
   },
   {
    "duration": 311,
    "start_time": "2024-07-06T19:20:53.595Z"
   },
   {
    "duration": 29,
    "start_time": "2024-07-06T19:22:49.121Z"
   },
   {
    "duration": 9,
    "start_time": "2024-07-06T19:24:02.736Z"
   },
   {
    "duration": 13,
    "start_time": "2024-07-06T19:24:22.494Z"
   },
   {
    "duration": 11,
    "start_time": "2024-07-06T19:28:25.208Z"
   },
   {
    "duration": 15,
    "start_time": "2024-07-06T19:29:01.783Z"
   },
   {
    "duration": 5,
    "start_time": "2024-07-06T19:45:52.986Z"
   },
   {
    "duration": 36,
    "start_time": "2024-07-06T19:45:58.233Z"
   },
   {
    "duration": 14,
    "start_time": "2024-07-06T19:46:19.577Z"
   },
   {
    "duration": 203,
    "start_time": "2024-07-06T19:47:39.327Z"
   },
   {
    "duration": 194,
    "start_time": "2024-07-06T19:49:21.432Z"
   },
   {
    "duration": 194,
    "start_time": "2024-07-06T19:50:34.563Z"
   },
   {
    "duration": 17,
    "start_time": "2024-07-06T19:58:18.781Z"
   },
   {
    "duration": 257,
    "start_time": "2024-07-06T19:58:22.912Z"
   },
   {
    "duration": 249,
    "start_time": "2024-07-06T19:58:35.981Z"
   },
   {
    "duration": 6,
    "start_time": "2024-07-06T19:58:40.978Z"
   },
   {
    "duration": 256,
    "start_time": "2024-07-06T19:58:59.520Z"
   },
   {
    "duration": 8,
    "start_time": "2024-07-06T19:59:02.513Z"
   },
   {
    "duration": 274,
    "start_time": "2024-07-06T19:59:54.190Z"
   },
   {
    "duration": 11,
    "start_time": "2024-07-06T19:59:58.014Z"
   },
   {
    "duration": 250,
    "start_time": "2024-07-06T20:00:00.721Z"
   },
   {
    "duration": 6,
    "start_time": "2024-07-06T20:00:05.571Z"
   },
   {
    "duration": 257,
    "start_time": "2024-07-06T20:00:34.909Z"
   },
   {
    "duration": 9,
    "start_time": "2024-07-06T20:00:38.926Z"
   },
   {
    "duration": 262,
    "start_time": "2024-07-06T20:00:41.843Z"
   },
   {
    "duration": 7,
    "start_time": "2024-07-06T20:00:44.804Z"
   },
   {
    "duration": 267,
    "start_time": "2024-07-06T20:01:05.135Z"
   },
   {
    "duration": 6,
    "start_time": "2024-07-06T20:01:19.744Z"
   },
   {
    "duration": 273,
    "start_time": "2024-07-06T20:01:36.700Z"
   },
   {
    "duration": 5,
    "start_time": "2024-07-06T20:01:39.460Z"
   },
   {
    "duration": 15,
    "start_time": "2024-07-06T20:03:21.698Z"
   },
   {
    "duration": 919,
    "start_time": "2024-07-06T20:03:26.426Z"
   },
   {
    "duration": 22,
    "start_time": "2024-07-06T20:07:24.832Z"
   },
   {
    "duration": 17,
    "start_time": "2024-07-06T20:07:38.036Z"
   },
   {
    "duration": 17,
    "start_time": "2024-07-06T20:08:02.740Z"
   },
   {
    "duration": 17,
    "start_time": "2024-07-06T20:09:09.361Z"
   },
   {
    "duration": 19,
    "start_time": "2024-07-06T20:09:16.654Z"
   },
   {
    "duration": 23,
    "start_time": "2024-07-06T20:11:11.279Z"
   },
   {
    "duration": 10,
    "start_time": "2024-07-06T20:14:15.012Z"
   },
   {
    "duration": 7,
    "start_time": "2024-07-06T20:14:16.261Z"
   },
   {
    "duration": 23,
    "start_time": "2024-07-06T20:14:44.715Z"
   },
   {
    "duration": 14,
    "start_time": "2024-07-06T20:14:47.386Z"
   },
   {
    "duration": 15,
    "start_time": "2024-07-06T20:14:48.706Z"
   },
   {
    "duration": 14,
    "start_time": "2024-07-06T20:14:59.893Z"
   },
   {
    "duration": 12,
    "start_time": "2024-07-06T20:16:17.697Z"
   },
   {
    "duration": 11,
    "start_time": "2024-07-06T20:16:21.488Z"
   },
   {
    "duration": 15,
    "start_time": "2024-07-06T20:16:22.480Z"
   },
   {
    "duration": 13,
    "start_time": "2024-07-06T20:16:24.170Z"
   },
   {
    "duration": 7,
    "start_time": "2024-07-06T20:16:24.721Z"
   }
  ],
  "kernelspec": {
   "display_name": "Python 3 (ipykernel)",
   "language": "python",
   "name": "python3"
  },
  "language_info": {
   "codemirror_mode": {
    "name": "ipython",
    "version": 3
   },
   "file_extension": ".py",
   "mimetype": "text/x-python",
   "name": "python",
   "nbconvert_exporter": "python",
   "pygments_lexer": "ipython3",
   "version": "3.9.19"
  },
  "toc": {
   "base_numbering": 1,
   "nav_menu": {},
   "number_sections": true,
   "sideBar": true,
   "skip_h1_title": true,
   "title_cell": "Table of Contents",
   "title_sidebar": "Contents",
   "toc_cell": false,
   "toc_position": {},
   "toc_section_display": true,
   "toc_window_display": false
  }
 },
 "nbformat": 4,
 "nbformat_minor": 2
}
